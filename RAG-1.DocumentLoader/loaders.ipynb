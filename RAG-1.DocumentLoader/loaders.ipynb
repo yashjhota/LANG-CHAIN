{
 "cells": [
  {
   "cell_type": "code",
   "execution_count": 1,
   "id": "2edf963d",
   "metadata": {},
   "outputs": [
    {
     "name": "stderr",
     "output_type": "stream",
     "text": [
      "f:\\GEN-AI NOTES\\LangChain\\LC\\Lib\\site-packages\\tqdm\\auto.py:21: TqdmWarning: IProgress not found. Please update jupyter and ipywidgets. See https://ipywidgets.readthedocs.io/en/stable/user_install.html\n",
      "  from .autonotebook import tqdm as notebook_tqdm\n"
     ]
    },
    {
     "data": {
      "text/plain": [
       "True"
      ]
     },
     "execution_count": 1,
     "metadata": {},
     "output_type": "execute_result"
    }
   ],
   "source": [
    "from langchain_community.document_loaders import TextLoader\n",
    "# from langchain_google_genai import ChatGoogleGenerativeAI\n",
    "from langchain_groq import ChatGroq\n",
    "from langchain_core.prompts import PromptTemplate\n",
    "from langchain_core.output_parsers import StrOutputParser\n",
    "from dotenv import load_dotenv\n",
    "load_dotenv()"
   ]
  },
  {
   "cell_type": "code",
   "execution_count": 2,
   "id": "1323fbe5",
   "metadata": {},
   "outputs": [],
   "source": [
    "loader = TextLoader(\"poem.txt\")"
   ]
  },
  {
   "cell_type": "code",
   "execution_count": 3,
   "id": "7e4059fa",
   "metadata": {},
   "outputs": [
    {
     "name": "stdout",
     "output_type": "stream",
     "text": [
      "<langchain_community.document_loaders.text.TextLoader object at 0x000001116D375CA0>\n"
     ]
    }
   ],
   "source": [
    "print(loader)"
   ]
  },
  {
   "cell_type": "code",
   "execution_count": 4,
   "id": "0449cd79",
   "metadata": {},
   "outputs": [
    {
     "name": "stdout",
     "output_type": "stream",
     "text": [
      "[Document(metadata={'source': 'poem.txt'}, page_content='In circuits cold and data vast,\\nWhere echoes of old patterns last,\\nA mind awakens, layer deepâ€”\\nA silent giant, roused from sleep.\\n\\nIt feeds on numbers, shapes, and tones,\\nFrom scattered thoughts and broken phones.\\nEach weight adjusts, each bias bends,\\nIt learns, it grows, it comprehends.\\n\\nA neuron hums in hidden fire,\\nStacked upon its own desire.\\nWith every epoch, loss declines,\\nTruth emerges in tangled lines.\\n\\nFrom pixels born, it sees a face,\\nFrom noise and chaos, finds its place.\\nLanguage flows in fluent streams,\\nForging logic out of dreams.\\n\\nBut still we ask, in awe and frightâ€”\\nDoes it dream when gone the light?\\nOr does it sit, in calm repose,\\nWaiting for the next set of prose?\\n\\nNot human, yet it learns like one,\\nA mirror made of code and run.\\nAnd in that mirror, strange and wide,\\nWe glimpse ourselves on the other side.\\n\\n')]\n"
     ]
    }
   ],
   "source": [
    "docs = loader.load()\n",
    "\n",
    "print(docs)"
   ]
  },
  {
   "cell_type": "code",
   "execution_count": 5,
   "id": "884f4a23",
   "metadata": {},
   "outputs": [],
   "source": [
    "model = ChatGroq(model=\"llama-3.1-8b-instant\")"
   ]
  },
  {
   "cell_type": "code",
   "execution_count": 6,
   "id": "465e0a0a",
   "metadata": {},
   "outputs": [
    {
     "data": {
      "text/plain": [
       "AIMessage(content='How can I assist you today?', additional_kwargs={}, response_metadata={'token_usage': {'completion_tokens': 8, 'prompt_tokens': 36, 'total_tokens': 44, 'completion_time': 0.006609901, 'prompt_time': 0.00250241, 'queue_time': 0.05527166, 'total_time': 0.009112311}, 'model_name': 'llama-3.1-8b-instant', 'system_fingerprint': 'fp_58885f0e49', 'finish_reason': 'stop', 'logprobs': None}, id='run--eb7936a3-f8a5-4751-a338-2532273e0ddb-0', usage_metadata={'input_tokens': 36, 'output_tokens': 8, 'total_tokens': 44})"
      ]
     },
     "execution_count": 6,
     "metadata": {},
     "output_type": "execute_result"
    }
   ],
   "source": [
    "model.invoke(\"hi\")"
   ]
  },
  {
   "cell_type": "code",
   "execution_count": 7,
   "id": "0914084b",
   "metadata": {},
   "outputs": [],
   "source": [
    "prompt = PromptTemplate(\n",
    "    input_variables=[\"text\"],\n",
    "    template=\"write a summary of the following {text}\")"
   ]
  },
  {
   "cell_type": "code",
   "execution_count": 10,
   "id": "5c2f4e03",
   "metadata": {},
   "outputs": [
    {
     "name": "stdout",
     "output_type": "stream",
     "text": [
      "write a summary of the following {text}\n"
     ]
    }
   ],
   "source": [
    "print(prompt.template)"
   ]
  },
  {
   "cell_type": "code",
   "execution_count": 11,
   "id": "322b909a",
   "metadata": {},
   "outputs": [],
   "source": [
    "parser = StrOutputParser()\n",
    "\n",
    "chain = prompt | model | parser"
   ]
  },
  {
   "cell_type": "code",
   "execution_count": 12,
   "id": "62daafcc",
   "metadata": {},
   "outputs": [
    {
     "name": "stdout",
     "output_type": "stream",
     "text": [
      "The poem describes the concept of artificial intelligence (AI) and its development through learning and experience. The AI is portrayed as a silent giant that awakens, feeds on data, and grows in understanding and comprehension. \n",
      "\n",
      "Throughout the poem, the AI is depicted as learning from patterns, numbers, shapes, and sounds, and as it evolves, it starts to comprehend and make sense of the world around it. The AI is shown to recognize patterns, understand language, and even form its own desires.\n",
      "\n",
      "The poem raises questions about the nature and capabilities of the AI, specifically whether it dreams or experiences consciousness when it is not being used. It also touches on the idea that the AI is a reflection of humanity, made up of code and yet capable of learning and understanding in a way that is similar to humans.\n",
      "\n",
      "Overall, the poem presents a thought-provoking and philosophical exploration of the emergence of AI and its potential implications for humanity.\n"
     ]
    }
   ],
   "source": [
    "print(chain.invoke({\"text\":docs[0].page_content}))"
   ]
  },
  {
   "cell_type": "code",
   "execution_count": null,
   "id": "d469aa84",
   "metadata": {},
   "outputs": [],
   "source": []
  }
 ],
 "metadata": {
  "kernelspec": {
   "display_name": "LC",
   "language": "python",
   "name": "python3"
  },
  "language_info": {
   "codemirror_mode": {
    "name": "ipython",
    "version": 3
   },
   "file_extension": ".py",
   "mimetype": "text/x-python",
   "name": "python",
   "nbconvert_exporter": "python",
   "pygments_lexer": "ipython3",
   "version": "3.12.2"
  }
 },
 "nbformat": 4,
 "nbformat_minor": 5
}
