{
 "cells": [
  {
   "cell_type": "code",
   "execution_count": null,
   "id": "c7c2d85a",
   "metadata": {},
   "outputs": [],
   "source": [
    "!pip install wikipedia sentence_transformers python-dotenv"
   ]
  },
  {
   "cell_type": "code",
   "execution_count": 2,
   "id": "8b6597e6",
   "metadata": {},
   "outputs": [
    {
     "name": "stdout",
     "output_type": "stream",
     "text": [
      "Collecting langchain-community\n",
      "  Using cached langchain_community-0.3.31-py3-none-any.whl.metadata (3.0 kB)\n",
      "Collecting langchain-core<2.0.0,>=0.3.78 (from langchain-community)\n",
      "  Using cached langchain_core-0.3.78-py3-none-any.whl.metadata (3.2 kB)\n",
      "Collecting langchain<2.0.0,>=0.3.27 (from langchain-community)\n",
      "  Using cached langchain-0.3.27-py3-none-any.whl.metadata (7.8 kB)\n",
      "Collecting SQLAlchemy<3.0.0,>=1.4.0 (from langchain-community)\n",
      "  Using cached sqlalchemy-2.0.43-cp312-cp312-win_amd64.whl.metadata (9.8 kB)\n",
      "Requirement already satisfied: requests<3.0.0,>=2.32.5 in f:\\gen-ai notes\\langchain\\projects\\4_newrag\\venv\\lib\\site-packages (from langchain-community) (2.32.5)\n",
      "Requirement already satisfied: PyYAML<7.0.0,>=5.3.0 in f:\\gen-ai notes\\langchain\\projects\\4_newrag\\venv\\lib\\site-packages (from langchain-community) (6.0.3)\n",
      "Collecting aiohttp<4.0.0,>=3.8.3 (from langchain-community)\n",
      "  Using cached aiohttp-3.13.0-cp312-cp312-win_amd64.whl.metadata (8.4 kB)\n",
      "Collecting tenacity!=8.4.0,<10.0.0,>=8.1.0 (from langchain-community)\n",
      "  Using cached tenacity-9.1.2-py3-none-any.whl.metadata (1.2 kB)\n",
      "Collecting dataclasses-json<0.7.0,>=0.6.7 (from langchain-community)\n",
      "  Using cached dataclasses_json-0.6.7-py3-none-any.whl.metadata (25 kB)\n",
      "Collecting pydantic-settings<3.0.0,>=2.10.1 (from langchain-community)\n",
      "  Using cached pydantic_settings-2.11.0-py3-none-any.whl.metadata (3.4 kB)\n",
      "Collecting langsmith<1.0.0,>=0.1.125 (from langchain-community)\n",
      "  Using cached langsmith-0.4.33-py3-none-any.whl.metadata (14 kB)\n",
      "Collecting httpx-sse<1.0.0,>=0.4.0 (from langchain-community)\n",
      "  Using cached httpx_sse-0.4.2-py3-none-any.whl.metadata (9.5 kB)\n",
      "Requirement already satisfied: numpy>=1.26.2 in f:\\gen-ai notes\\langchain\\projects\\4_newrag\\venv\\lib\\site-packages (from langchain-community) (2.3.3)\n",
      "Collecting aiohappyeyeballs>=2.5.0 (from aiohttp<4.0.0,>=3.8.3->langchain-community)\n",
      "  Using cached aiohappyeyeballs-2.6.1-py3-none-any.whl.metadata (5.9 kB)\n",
      "Collecting aiosignal>=1.4.0 (from aiohttp<4.0.0,>=3.8.3->langchain-community)\n",
      "  Using cached aiosignal-1.4.0-py3-none-any.whl.metadata (3.7 kB)\n",
      "Collecting attrs>=17.3.0 (from aiohttp<4.0.0,>=3.8.3->langchain-community)\n",
      "  Using cached attrs-25.4.0-py3-none-any.whl.metadata (10 kB)\n",
      "Collecting frozenlist>=1.1.1 (from aiohttp<4.0.0,>=3.8.3->langchain-community)\n",
      "  Using cached frozenlist-1.8.0-cp312-cp312-win_amd64.whl.metadata (21 kB)\n",
      "Collecting multidict<7.0,>=4.5 (from aiohttp<4.0.0,>=3.8.3->langchain-community)\n",
      "  Using cached multidict-6.7.0-cp312-cp312-win_amd64.whl.metadata (5.5 kB)\n",
      "Collecting propcache>=0.2.0 (from aiohttp<4.0.0,>=3.8.3->langchain-community)\n",
      "  Downloading propcache-0.4.1-cp312-cp312-win_amd64.whl.metadata (14 kB)\n",
      "Collecting yarl<2.0,>=1.17.0 (from aiohttp<4.0.0,>=3.8.3->langchain-community)\n",
      "  Using cached yarl-1.22.0-cp312-cp312-win_amd64.whl.metadata (77 kB)\n",
      "Collecting marshmallow<4.0.0,>=3.18.0 (from dataclasses-json<0.7.0,>=0.6.7->langchain-community)\n",
      "  Using cached marshmallow-3.26.1-py3-none-any.whl.metadata (7.3 kB)\n",
      "Collecting typing-inspect<1,>=0.4.0 (from dataclasses-json<0.7.0,>=0.6.7->langchain-community)\n",
      "  Using cached typing_inspect-0.9.0-py3-none-any.whl.metadata (1.5 kB)\n",
      "Collecting langchain-text-splitters<1.0.0,>=0.3.9 (from langchain<2.0.0,>=0.3.27->langchain-community)\n",
      "  Using cached langchain_text_splitters-0.3.11-py3-none-any.whl.metadata (1.8 kB)\n",
      "Collecting pydantic<3.0.0,>=2.7.4 (from langchain<2.0.0,>=0.3.27->langchain-community)\n",
      "  Using cached pydantic-2.12.0-py3-none-any.whl.metadata (83 kB)\n",
      "Collecting jsonpatch<2.0.0,>=1.33.0 (from langchain-core<2.0.0,>=0.3.78->langchain-community)\n",
      "  Using cached jsonpatch-1.33-py2.py3-none-any.whl.metadata (3.0 kB)\n",
      "Requirement already satisfied: typing-extensions<5.0.0,>=4.7.0 in f:\\gen-ai notes\\langchain\\projects\\4_newrag\\venv\\lib\\site-packages (from langchain-core<2.0.0,>=0.3.78->langchain-community) (4.15.0)\n",
      "Requirement already satisfied: packaging<26.0.0,>=23.2.0 in f:\\gen-ai notes\\langchain\\projects\\4_newrag\\venv\\lib\\site-packages (from langchain-core<2.0.0,>=0.3.78->langchain-community) (25.0)\n",
      "Collecting httpx<1,>=0.23.0 (from langsmith<1.0.0,>=0.1.125->langchain-community)\n",
      "  Using cached httpx-0.28.1-py3-none-any.whl.metadata (7.1 kB)\n",
      "Collecting orjson>=3.9.14 (from langsmith<1.0.0,>=0.1.125->langchain-community)\n",
      "  Using cached orjson-3.11.3-cp312-cp312-win_amd64.whl.metadata (43 kB)\n",
      "Collecting requests-toolbelt>=1.0.0 (from langsmith<1.0.0,>=0.1.125->langchain-community)\n",
      "  Using cached requests_toolbelt-1.0.0-py2.py3-none-any.whl.metadata (14 kB)\n",
      "Collecting zstandard>=0.23.0 (from langsmith<1.0.0,>=0.1.125->langchain-community)\n",
      "  Using cached zstandard-0.25.0-cp312-cp312-win_amd64.whl.metadata (3.3 kB)\n",
      "Requirement already satisfied: python-dotenv>=0.21.0 in f:\\gen-ai notes\\langchain\\projects\\4_newrag\\venv\\lib\\site-packages (from pydantic-settings<3.0.0,>=2.10.1->langchain-community) (1.1.1)\n",
      "Collecting typing-inspection>=0.4.0 (from pydantic-settings<3.0.0,>=2.10.1->langchain-community)\n",
      "  Using cached typing_inspection-0.4.2-py3-none-any.whl.metadata (2.6 kB)\n",
      "Requirement already satisfied: charset_normalizer<4,>=2 in f:\\gen-ai notes\\langchain\\projects\\4_newrag\\venv\\lib\\site-packages (from requests<3.0.0,>=2.32.5->langchain-community) (3.4.3)\n",
      "Requirement already satisfied: idna<4,>=2.5 in f:\\gen-ai notes\\langchain\\projects\\4_newrag\\venv\\lib\\site-packages (from requests<3.0.0,>=2.32.5->langchain-community) (3.10)\n",
      "Requirement already satisfied: urllib3<3,>=1.21.1 in f:\\gen-ai notes\\langchain\\projects\\4_newrag\\venv\\lib\\site-packages (from requests<3.0.0,>=2.32.5->langchain-community) (2.5.0)\n",
      "Requirement already satisfied: certifi>=2017.4.17 in f:\\gen-ai notes\\langchain\\projects\\4_newrag\\venv\\lib\\site-packages (from requests<3.0.0,>=2.32.5->langchain-community) (2025.10.5)\n",
      "Collecting greenlet>=1 (from SQLAlchemy<3.0.0,>=1.4.0->langchain-community)\n",
      "  Using cached greenlet-3.2.4-cp312-cp312-win_amd64.whl.metadata (4.2 kB)\n",
      "Collecting anyio (from httpx<1,>=0.23.0->langsmith<1.0.0,>=0.1.125->langchain-community)\n",
      "  Using cached anyio-4.11.0-py3-none-any.whl.metadata (4.1 kB)\n",
      "Collecting httpcore==1.* (from httpx<1,>=0.23.0->langsmith<1.0.0,>=0.1.125->langchain-community)\n",
      "  Using cached httpcore-1.0.9-py3-none-any.whl.metadata (21 kB)\n",
      "Collecting h11>=0.16 (from httpcore==1.*->httpx<1,>=0.23.0->langsmith<1.0.0,>=0.1.125->langchain-community)\n",
      "  Using cached h11-0.16.0-py3-none-any.whl.metadata (8.3 kB)\n",
      "Collecting jsonpointer>=1.9 (from jsonpatch<2.0.0,>=1.33.0->langchain-core<2.0.0,>=0.3.78->langchain-community)\n",
      "  Using cached jsonpointer-3.0.0-py2.py3-none-any.whl.metadata (2.3 kB)\n",
      "Collecting annotated-types>=0.6.0 (from pydantic<3.0.0,>=2.7.4->langchain<2.0.0,>=0.3.27->langchain-community)\n",
      "  Using cached annotated_types-0.7.0-py3-none-any.whl.metadata (15 kB)\n",
      "Collecting pydantic-core==2.41.1 (from pydantic<3.0.0,>=2.7.4->langchain<2.0.0,>=0.3.27->langchain-community)\n",
      "  Using cached pydantic_core-2.41.1-cp312-cp312-win_amd64.whl.metadata (7.4 kB)\n",
      "Collecting mypy-extensions>=0.3.0 (from typing-inspect<1,>=0.4.0->dataclasses-json<0.7.0,>=0.6.7->langchain-community)\n",
      "  Using cached mypy_extensions-1.1.0-py3-none-any.whl.metadata (1.1 kB)\n",
      "Collecting sniffio>=1.1 (from anyio->httpx<1,>=0.23.0->langsmith<1.0.0,>=0.1.125->langchain-community)\n",
      "  Using cached sniffio-1.3.1-py3-none-any.whl.metadata (3.9 kB)\n",
      "Using cached langchain_community-0.3.31-py3-none-any.whl (2.5 MB)\n",
      "Using cached aiohttp-3.13.0-cp312-cp312-win_amd64.whl (451 kB)\n",
      "Using cached dataclasses_json-0.6.7-py3-none-any.whl (28 kB)\n",
      "Using cached httpx_sse-0.4.2-py3-none-any.whl (9.0 kB)\n",
      "Using cached langchain-0.3.27-py3-none-any.whl (1.0 MB)\n",
      "Using cached langchain_core-0.3.78-py3-none-any.whl (449 kB)\n",
      "Using cached langsmith-0.4.33-py3-none-any.whl (387 kB)\n",
      "Using cached pydantic_settings-2.11.0-py3-none-any.whl (48 kB)\n",
      "Using cached sqlalchemy-2.0.43-cp312-cp312-win_amd64.whl (2.1 MB)\n",
      "Using cached tenacity-9.1.2-py3-none-any.whl (28 kB)\n",
      "Using cached aiohappyeyeballs-2.6.1-py3-none-any.whl (15 kB)\n",
      "Using cached aiosignal-1.4.0-py3-none-any.whl (7.5 kB)\n",
      "Using cached attrs-25.4.0-py3-none-any.whl (67 kB)\n",
      "Using cached frozenlist-1.8.0-cp312-cp312-win_amd64.whl (44 kB)\n",
      "Using cached greenlet-3.2.4-cp312-cp312-win_amd64.whl (299 kB)\n",
      "Using cached httpx-0.28.1-py3-none-any.whl (73 kB)\n",
      "Using cached httpcore-1.0.9-py3-none-any.whl (78 kB)\n",
      "Using cached jsonpatch-1.33-py2.py3-none-any.whl (12 kB)\n",
      "Using cached langchain_text_splitters-0.3.11-py3-none-any.whl (33 kB)\n",
      "Using cached marshmallow-3.26.1-py3-none-any.whl (50 kB)\n",
      "Using cached multidict-6.7.0-cp312-cp312-win_amd64.whl (46 kB)\n",
      "Using cached orjson-3.11.3-cp312-cp312-win_amd64.whl (131 kB)\n",
      "Downloading propcache-0.4.1-cp312-cp312-win_amd64.whl (41 kB)\n",
      "   ---------------------------------------- 0.0/41.7 kB ? eta -:--:--\n",
      "   ---------------------------------------  41.0/41.7 kB 653.6 kB/s eta 0:00:01\n",
      "   ---------------------------------------- 41.7/41.7 kB 668.4 kB/s eta 0:00:00\n",
      "Using cached pydantic-2.12.0-py3-none-any.whl (459 kB)\n",
      "Using cached pydantic_core-2.41.1-cp312-cp312-win_amd64.whl (2.0 MB)\n",
      "Using cached requests_toolbelt-1.0.0-py2.py3-none-any.whl (54 kB)\n",
      "Using cached typing_inspect-0.9.0-py3-none-any.whl (8.8 kB)\n",
      "Using cached typing_inspection-0.4.2-py3-none-any.whl (14 kB)\n",
      "Using cached yarl-1.22.0-cp312-cp312-win_amd64.whl (87 kB)\n",
      "Using cached zstandard-0.25.0-cp312-cp312-win_amd64.whl (506 kB)\n",
      "Using cached annotated_types-0.7.0-py3-none-any.whl (13 kB)\n",
      "Using cached jsonpointer-3.0.0-py2.py3-none-any.whl (7.6 kB)\n",
      "Using cached mypy_extensions-1.1.0-py3-none-any.whl (5.0 kB)\n",
      "Using cached anyio-4.11.0-py3-none-any.whl (109 kB)\n",
      "Using cached h11-0.16.0-py3-none-any.whl (37 kB)\n",
      "Using cached sniffio-1.3.1-py3-none-any.whl (10 kB)\n",
      "Installing collected packages: zstandard, typing-inspection, tenacity, sniffio, pydantic-core, propcache, orjson, mypy-extensions, multidict, marshmallow, jsonpointer, httpx-sse, h11, greenlet, frozenlist, attrs, annotated-types, aiohappyeyeballs, yarl, typing-inspect, SQLAlchemy, requests-toolbelt, pydantic, jsonpatch, httpcore, anyio, aiosignal, pydantic-settings, httpx, dataclasses-json, aiohttp, langsmith, langchain-core, langchain-text-splitters, langchain, langchain-community\n",
      "Successfully installed SQLAlchemy-2.0.43 aiohappyeyeballs-2.6.1 aiohttp-3.13.0 aiosignal-1.4.0 annotated-types-0.7.0 anyio-4.11.0 attrs-25.4.0 dataclasses-json-0.6.7 frozenlist-1.8.0 greenlet-3.2.4 h11-0.16.0 httpcore-1.0.9 httpx-0.28.1 httpx-sse-0.4.2 jsonpatch-1.33 jsonpointer-3.0.0 langchain-0.3.27 langchain-community-0.3.31 langchain-core-0.3.78 langchain-text-splitters-0.3.11 langsmith-0.4.33 marshmallow-3.26.1 multidict-6.7.0 mypy-extensions-1.1.0 orjson-3.11.3 propcache-0.4.1 pydantic-2.12.0 pydantic-core-2.41.1 pydantic-settings-2.11.0 requests-toolbelt-1.0.0 sniffio-1.3.1 tenacity-9.1.2 typing-inspect-0.9.0 typing-inspection-0.4.2 yarl-1.22.0 zstandard-0.25.0\n"
     ]
    },
    {
     "name": "stderr",
     "output_type": "stream",
     "text": [
      "\n",
      "[notice] A new release of pip is available: 24.0 -> 25.2\n",
      "[notice] To update, run: python.exe -m pip install --upgrade pip\n"
     ]
    }
   ],
   "source": [
    "!pip install langchain-community"
   ]
  },
  {
   "cell_type": "code",
   "execution_count": null,
   "id": "63247d32",
   "metadata": {},
   "outputs": [],
   "source": []
  },
  {
   "cell_type": "code",
   "execution_count": 4,
   "id": "3a3d0be8",
   "metadata": {},
   "outputs": [
    {
     "name": "stderr",
     "output_type": "stream",
     "text": [
      "f:\\GEN-AI NOTES\\LangChain\\Projects\\4_NewRAG\\venv\\Lib\\site-packages\\tqdm\\auto.py:21: TqdmWarning: IProgress not found. Please update jupyter and ipywidgets. See https://ipywidgets.readthedocs.io/en/stable/user_install.html\n",
      "  from .autonotebook import tqdm as notebook_tqdm\n"
     ]
    }
   ],
   "source": [
    "import os\n",
    "import wikipedia\n",
    "from pathlib import Path\n",
    "from dotenv import load_dotenv\n",
    "from langchain_community.document_loaders import TextLoader, PyPDFLoader\n",
    "from langchain_community.embeddings import HuggingFaceEmbeddings\n",
    "from langchain_community.vectorstores import Chroma\n",
    "\n",
    "load_dotenv()  # loads .env\n",
    "\n",
    "# Path to store Chroma DB\n",
    "CHROMA_PATH = Path(\"chroma_db\")\n",
    "CHROMA_PATH.mkdir(exist_ok=True)"
   ]
  },
  {
   "cell_type": "code",
   "execution_count": 4,
   "id": "13d864c7",
   "metadata": {},
   "outputs": [],
   "source": [
    "def load_local_docs(folder: str = \"data\") -> list:\n",
    "    \"\"\"Load all .txt and .pdf files from a folder.\"\"\"\n",
    "    docs = []\n",
    "    for file in Path(folder).glob(\"*\"):\n",
    "        if file.suffix == \".txt\":\n",
    "            loader = TextLoader(str(file))\n",
    "        elif file.suffix == \".pdf\":\n",
    "            loader = PyPDFLoader(str(file))\n",
    "        else:\n",
    "            continue\n",
    "        docs.extend(loader.load())\n",
    "    return docs"
   ]
  },
  {
   "cell_type": "code",
   "execution_count": 6,
   "id": "60542127",
   "metadata": {},
   "outputs": [],
   "source": [
    "from langchain_core.documents import Document"
   ]
  },
  {
   "cell_type": "code",
   "execution_count": 7,
   "id": "a7997e8b",
   "metadata": {},
   "outputs": [],
   "source": [
    "def load_wikipedia_articles(titles: list[str]) -> list:\n",
    "    \"\"\"Fetch Wikipedia pages and return as Documents.\"\"\"\n",
    "    docs = []\n",
    "    for title in titles:\n",
    "        try:\n",
    "            page = wikipedia.page(title)\n",
    "            content = page.content\n",
    "            docs.append(\n",
    "                Document(page_content=content, metadata={\"source\": f\"Wikipedia:{title}\"})\n",
    "            )\n",
    "        except Exception as e:\n",
    "            print(f\"Failed to load {title}: {e}\")\n",
    "    return docs"
   ]
  },
  {
   "cell_type": "code",
   "execution_count": 7,
   "id": "6387ba4b",
   "metadata": {},
   "outputs": [
    {
     "name": "stdout",
     "output_type": "stream",
     "text": [
      "Collecting langchain_huggingface\n",
      "  Using cached langchain_huggingface-0.3.1-py3-none-any.whl.metadata (996 bytes)\n",
      "Requirement already satisfied: langchain-core<1.0.0,>=0.3.70 in f:\\gen-ai notes\\langchain\\projects\\4_newrag\\venv\\lib\\site-packages (from langchain_huggingface) (0.3.78)\n",
      "Collecting tokenizers>=0.19.1 (from langchain_huggingface)\n",
      "  Using cached tokenizers-0.22.1-cp39-abi3-win_amd64.whl.metadata (6.9 kB)\n",
      "Requirement already satisfied: huggingface-hub>=0.33.4 in f:\\gen-ai notes\\langchain\\projects\\4_newrag\\venv\\lib\\site-packages (from langchain_huggingface) (0.35.3)\n",
      "Requirement already satisfied: filelock in f:\\gen-ai notes\\langchain\\projects\\4_newrag\\venv\\lib\\site-packages (from huggingface-hub>=0.33.4->langchain_huggingface) (3.20.0)\n",
      "Requirement already satisfied: fsspec>=2023.5.0 in f:\\gen-ai notes\\langchain\\projects\\4_newrag\\venv\\lib\\site-packages (from huggingface-hub>=0.33.4->langchain_huggingface) (2025.9.0)\n",
      "Requirement already satisfied: packaging>=20.9 in f:\\gen-ai notes\\langchain\\projects\\4_newrag\\venv\\lib\\site-packages (from huggingface-hub>=0.33.4->langchain_huggingface) (25.0)\n",
      "Requirement already satisfied: pyyaml>=5.1 in f:\\gen-ai notes\\langchain\\projects\\4_newrag\\venv\\lib\\site-packages (from huggingface-hub>=0.33.4->langchain_huggingface) (6.0.3)\n",
      "Requirement already satisfied: requests in f:\\gen-ai notes\\langchain\\projects\\4_newrag\\venv\\lib\\site-packages (from huggingface-hub>=0.33.4->langchain_huggingface) (2.32.5)\n",
      "Requirement already satisfied: tqdm>=4.42.1 in f:\\gen-ai notes\\langchain\\projects\\4_newrag\\venv\\lib\\site-packages (from huggingface-hub>=0.33.4->langchain_huggingface) (4.67.1)\n",
      "Requirement already satisfied: typing-extensions>=3.7.4.3 in f:\\gen-ai notes\\langchain\\projects\\4_newrag\\venv\\lib\\site-packages (from huggingface-hub>=0.33.4->langchain_huggingface) (4.15.0)\n",
      "Requirement already satisfied: langsmith<1.0.0,>=0.3.45 in f:\\gen-ai notes\\langchain\\projects\\4_newrag\\venv\\lib\\site-packages (from langchain-core<1.0.0,>=0.3.70->langchain_huggingface) (0.4.33)\n",
      "Requirement already satisfied: tenacity!=8.4.0,<10.0.0,>=8.1.0 in f:\\gen-ai notes\\langchain\\projects\\4_newrag\\venv\\lib\\site-packages (from langchain-core<1.0.0,>=0.3.70->langchain_huggingface) (9.1.2)\n",
      "Requirement already satisfied: jsonpatch<2.0.0,>=1.33.0 in f:\\gen-ai notes\\langchain\\projects\\4_newrag\\venv\\lib\\site-packages (from langchain-core<1.0.0,>=0.3.70->langchain_huggingface) (1.33)\n",
      "Requirement already satisfied: pydantic<3.0.0,>=2.7.4 in f:\\gen-ai notes\\langchain\\projects\\4_newrag\\venv\\lib\\site-packages (from langchain-core<1.0.0,>=0.3.70->langchain_huggingface) (2.12.0)\n",
      "Requirement already satisfied: jsonpointer>=1.9 in f:\\gen-ai notes\\langchain\\projects\\4_newrag\\venv\\lib\\site-packages (from jsonpatch<2.0.0,>=1.33.0->langchain-core<1.0.0,>=0.3.70->langchain_huggingface) (3.0.0)\n",
      "Requirement already satisfied: httpx<1,>=0.23.0 in f:\\gen-ai notes\\langchain\\projects\\4_newrag\\venv\\lib\\site-packages (from langsmith<1.0.0,>=0.3.45->langchain-core<1.0.0,>=0.3.70->langchain_huggingface) (0.28.1)\n",
      "Requirement already satisfied: orjson>=3.9.14 in f:\\gen-ai notes\\langchain\\projects\\4_newrag\\venv\\lib\\site-packages (from langsmith<1.0.0,>=0.3.45->langchain-core<1.0.0,>=0.3.70->langchain_huggingface) (3.11.3)\n",
      "Requirement already satisfied: requests-toolbelt>=1.0.0 in f:\\gen-ai notes\\langchain\\projects\\4_newrag\\venv\\lib\\site-packages (from langsmith<1.0.0,>=0.3.45->langchain-core<1.0.0,>=0.3.70->langchain_huggingface) (1.0.0)\n",
      "Requirement already satisfied: zstandard>=0.23.0 in f:\\gen-ai notes\\langchain\\projects\\4_newrag\\venv\\lib\\site-packages (from langsmith<1.0.0,>=0.3.45->langchain-core<1.0.0,>=0.3.70->langchain_huggingface) (0.25.0)\n",
      "Requirement already satisfied: annotated-types>=0.6.0 in f:\\gen-ai notes\\langchain\\projects\\4_newrag\\venv\\lib\\site-packages (from pydantic<3.0.0,>=2.7.4->langchain-core<1.0.0,>=0.3.70->langchain_huggingface) (0.7.0)\n",
      "Requirement already satisfied: pydantic-core==2.41.1 in f:\\gen-ai notes\\langchain\\projects\\4_newrag\\venv\\lib\\site-packages (from pydantic<3.0.0,>=2.7.4->langchain-core<1.0.0,>=0.3.70->langchain_huggingface) (2.41.1)\n",
      "Requirement already satisfied: typing-inspection>=0.4.2 in f:\\gen-ai notes\\langchain\\projects\\4_newrag\\venv\\lib\\site-packages (from pydantic<3.0.0,>=2.7.4->langchain-core<1.0.0,>=0.3.70->langchain_huggingface) (0.4.2)\n",
      "Requirement already satisfied: charset_normalizer<4,>=2 in f:\\gen-ai notes\\langchain\\projects\\4_newrag\\venv\\lib\\site-packages (from requests->huggingface-hub>=0.33.4->langchain_huggingface) (3.4.3)\n",
      "Requirement already satisfied: idna<4,>=2.5 in f:\\gen-ai notes\\langchain\\projects\\4_newrag\\venv\\lib\\site-packages (from requests->huggingface-hub>=0.33.4->langchain_huggingface) (3.10)\n",
      "Requirement already satisfied: urllib3<3,>=1.21.1 in f:\\gen-ai notes\\langchain\\projects\\4_newrag\\venv\\lib\\site-packages (from requests->huggingface-hub>=0.33.4->langchain_huggingface) (2.5.0)\n",
      "Requirement already satisfied: certifi>=2017.4.17 in f:\\gen-ai notes\\langchain\\projects\\4_newrag\\venv\\lib\\site-packages (from requests->huggingface-hub>=0.33.4->langchain_huggingface) (2025.10.5)\n",
      "Requirement already satisfied: colorama in f:\\gen-ai notes\\langchain\\projects\\4_newrag\\venv\\lib\\site-packages (from tqdm>=4.42.1->huggingface-hub>=0.33.4->langchain_huggingface) (0.4.6)\n",
      "Requirement already satisfied: anyio in f:\\gen-ai notes\\langchain\\projects\\4_newrag\\venv\\lib\\site-packages (from httpx<1,>=0.23.0->langsmith<1.0.0,>=0.3.45->langchain-core<1.0.0,>=0.3.70->langchain_huggingface) (4.11.0)\n",
      "Requirement already satisfied: httpcore==1.* in f:\\gen-ai notes\\langchain\\projects\\4_newrag\\venv\\lib\\site-packages (from httpx<1,>=0.23.0->langsmith<1.0.0,>=0.3.45->langchain-core<1.0.0,>=0.3.70->langchain_huggingface) (1.0.9)\n",
      "Requirement already satisfied: h11>=0.16 in f:\\gen-ai notes\\langchain\\projects\\4_newrag\\venv\\lib\\site-packages (from httpcore==1.*->httpx<1,>=0.23.0->langsmith<1.0.0,>=0.3.45->langchain-core<1.0.0,>=0.3.70->langchain_huggingface) (0.16.0)\n",
      "Requirement already satisfied: sniffio>=1.1 in f:\\gen-ai notes\\langchain\\projects\\4_newrag\\venv\\lib\\site-packages (from anyio->httpx<1,>=0.23.0->langsmith<1.0.0,>=0.3.45->langchain-core<1.0.0,>=0.3.70->langchain_huggingface) (1.3.1)\n",
      "Using cached langchain_huggingface-0.3.1-py3-none-any.whl (27 kB)\n",
      "Using cached tokenizers-0.22.1-cp39-abi3-win_amd64.whl (2.7 MB)\n",
      "Installing collected packages: tokenizers, langchain_huggingface\n",
      "Successfully installed langchain_huggingface-0.3.1 tokenizers-0.22.1\n",
      "Note: you may need to restart the kernel to use updated packages.\n"
     ]
    },
    {
     "name": "stderr",
     "output_type": "stream",
     "text": [
      "\n",
      "[notice] A new release of pip is available: 24.0 -> 25.2\n",
      "[notice] To update, run: python.exe -m pip install --upgrade pip\n"
     ]
    }
   ],
   "source": [
    "\n",
    "%pip install langchain_huggingface\n",
    "from langchain_huggingface import HuggingFaceEmbeddings"
   ]
  },
  {
   "cell_type": "code",
   "execution_count": 8,
   "id": "de0dac5d",
   "metadata": {},
   "outputs": [],
   "source": [
    "def create_chroma_store(docs: list, persist_path: Path = CHROMA_PATH):\n",
    "    \"\"\"Create a Chroma vector store from documents.\"\"\"\n",
    "    # Use Groq embeddings (free tier)\n",
    "    embeddings =HuggingFaceEmbeddings(\n",
    "        model=\"sentence-transformers/all-mpnet-base-v2\"\n",
    "    )\n",
    "    # Persist the store\n",
    "    db = Chroma.from_documents(\n",
    "        documents=docs,\n",
    "        embedding=embeddings,\n",
    "        persist_directory=str(persist_path),\n",
    "    )\n",
    "    db.persist()\n",
    "    print(f\"Chroma DB stored at {persist_path}\")"
   ]
  },
  {
   "cell_type": "code",
   "execution_count": null,
   "id": "fa936553",
   "metadata": {},
   "outputs": [],
   "source": [
    "# if __name__ == \"__main__\":\n",
    "#     # 1️⃣ Load local docs\n",
    "#     local_docs = load_local_docs()\n",
    "\n",
    "#     # 2️⃣ Load Wikipedia articles (optional)\n",
    "#     wiki_titles = [\"Python (programming language)\", \"LangChain\", \"Groq\"]\n",
    "#     wiki_docs = load_wikipedia_articles(wiki_titles)\n",
    "\n",
    "#     # 3️⃣ Combine\n",
    "#     all_docs = local_docs + wiki_docs\n",
    "\n",
    "#     # 4️⃣ Create Chroma store\n",
    "#     create_chroma_store(all_docs)"
   ]
  },
  {
   "cell_type": "code",
   "execution_count": 12,
   "id": "b8360e0d",
   "metadata": {},
   "outputs": [],
   "source": [
    "local_docs = load_local_docs()"
   ]
  },
  {
   "cell_type": "code",
   "execution_count": 19,
   "id": "6505898e",
   "metadata": {},
   "outputs": [
    {
     "name": "stdout",
     "output_type": "stream",
     "text": [
      "Chroma DB stored at chroma_db\n"
     ]
    },
    {
     "name": "stderr",
     "output_type": "stream",
     "text": [
      "C:\\Users\\jhota\\AppData\\Local\\Temp\\ipykernel_19420\\3725697247.py:13: LangChainDeprecationWarning: Since Chroma 0.4.x the manual persistence method is no longer supported as docs are automatically persisted.\n",
      "  db.persist()\n"
     ]
    }
   ],
   "source": [
    "create_chroma_store(local_docs)"
   ]
  },
  {
   "cell_type": "code",
   "execution_count": 8,
   "id": "d83403e3",
   "metadata": {},
   "outputs": [
    {
     "name": "stdout",
     "output_type": "stream",
     "text": [
      "Failed to load LangChain: Page id \"lang chain\" does not match any pages. Try another id!\n"
     ]
    },
    {
     "data": {
      "text/plain": [
       "[Document(metadata={'source': 'Wikipedia:Python (programming language)'}, page_content='Python is a high-level, general-purpose programming language. Its design philosophy emphasizes code readability with the use of significant indentation.\\nPython is dynamically type-checked and garbage-collected. It supports multiple programming paradigms, including structured (particularly procedural), object-oriented and functional programming.\\nGuido van Rossum began working on Python in the late 1980s as a successor to the ABC programming language. Python 3.0, released in 2008, was a major revision and not completely backward-compatible with earlier versions. Recent versions, such as Python 3.13, 3.12 and older (and 3.14), have added capabilities and keywords for typing (and more; e.g. increasing speed); helping with (optional) static typing. Currently only versions in the 3.x series are supported.\\nPython consistently ranks as one of the most popular programming languages, and it has gained widespread use in the machine learning community. It is widely taught as an introductory programming language.\\n\\n\\n== History ==\\n\\nPython was conceived in the late 1980s by Guido van Rossum at Centrum Wiskunde & Informatica (CWI) in the Netherlands. It was designed as a successor to the ABC programming language, which was inspired by SETL, capable of exception handling and interfacing with the Amoeba operating system. Python implementation began in December 1989. Van Rossum first released it in 1991 as Python 0.9.0. Van Rossum assumed sole responsibility for the project, as the lead developer, until 12 July 2018, when he announced his \"permanent vacation\" from responsibilities as Python\\'s \"benevolent dictator for life\" (BDFL); this title was bestowed on him by the Python community to reflect his long-term commitment as the project\\'s chief decision-maker. (He has since come out of retirement and is self-titled \"BDFL-emeritus\".) In January 2019, active Python core developers elected a five-member Steering Council to lead the project.\\nThe name Python derives from the British comedy series Monty Python\\'s Flying Circus. (See § Naming.)\\nPython 2.0 was released on 16 October 2000, featuring many new features such as list comprehensions, cycle-detecting garbage collection, reference counting, and Unicode support. Python 2.7\\'s end-of-life was initially set for 2015, and then postponed to 2020 out of concern that a large body of existing code could not easily be forward-ported to Python 3. It no longer receives security patches or updates. While Python 2.7 and older versions are officially unsupported, a different unofficial Python implementation, PyPy, continues to support Python 2, i.e., \"2.7.18+\" (plus 3.10), with the plus signifying (at least some) \"backported security updates\".\\nPython 3.0 was released on 3 December 2008, and was a major revision and not completely backward-compatible with earlier versions, with some new semantics and changed syntax. Python 2.7.18, released in 2020, was the last release of Python 2. Several releases in the Python 3.x series have added new syntax to the language, and made a few (considered very minor) backward-incompatible changes.\\nSince 7 October 2025, Python 3.14.0 is the latest stable release, and Python 3.13.8 released same day; and Python 3.10 is the oldest supported release. Releases receive two years of full support followed by three years of security support.\\n\\n\\n== Design philosophy and features ==\\nPython is a multi-paradigm programming language. Object-oriented programming and structured programming are fully supported, and many of their features support functional programming and aspect-oriented programming – including metaprogramming and metaobjects. Many other paradigms are supported via extensions, including design by contract and logic programming. Python is often referred to as a \\'glue language\\' because it is purposely designed to be able to integrate components written in other languages.\\nPython uses dynamic typing and a combination of reference counting and a cycle-detecting garbage collector for memory management. It uses dynamic name resolution (late binding), which binds method and variable names during program execution.\\nPython\\'s design offers some support for functional programming in the \"Lisp tradition\". It has filter, map, and reduce functions; list comprehensions, dictionaries, sets, and generator expressions. The standard library has two modules (itertools and functools) that implement functional tools borrowed from Haskell and Standard ML.\\nPython\\'s core philosophy is summarized in the Zen of Python (PEP 20) written by Tim Peters, which includes aphorisms such as these:\\n\\nExplicit is better than implicit.\\nSimple is better than complex.\\nReadability counts.\\nSpecial cases aren\\'t special enough to break the rules.\\nAlthough practicality beats purity.\\nErrors should never pass silently.\\nUnless explicitly silenced.\\nThere should be one-- and preferably only one --obvious way to do it.\\nHowever, Python have received criticism for violating these principles and adding unnecessary language bloat. Responses to these criticisms note that the Zen of Python is a guideline rather than a rule. The addition of some new features had been controversial: Guido van Rossum resigned as Benevolent Dictator for Life after conflict about adding the assignment expression operator in Python 3.8\\u2009.\\nNevertheless, rather than building all functionality into its core, Python was designed to be highly extensible via modules. This compact modularity has made it particularly popular as a means of adding programmable interfaces to existing applications. Van Rossum\\'s vision of a small core language with a large standard library and easily extensible interpreter stemmed from his frustrations with ABC, which represented the opposite approach.\\nPython claims to strive for a simpler, less-cluttered syntax and grammar, while giving developers a choice in their coding methodology. In contrast to Perl\\'s motto \"there is more than one way to do it\", Python advocates an approach where \"there should be one – and preferably only one – obvious way to do it\". In practice, however, Python provides many ways to achieve a given goal. There are at least three ways to format a string literal, with no certainty as to which one a programmer should use. Alex Martelli is a Fellow at the Python Software Foundation and Python book author; he wrote that \"To describe something as \\'clever\\' is not considered a compliment in the Python culture.\"\\nPython\\'s developers usually try to avoid premature optimization; they also reject patches to non-critical parts of the CPython reference implementation that would offer marginal increases in speed at the cost of clarity. Execution speed can be improved by moving speed-critical functions to extension modules written in languages such as C, or by using a just-in-time compiler like PyPy. It is also possible to cross-compile to other languages; but this approach either fails to achieve the expected speed-up, since Python is a very dynamic language, or only a restricted subset of Python is compiled (with potential minor semantic changes).\\nPython is meant to be a fun language to use. This goal is reflected in the name – a tribute to the British comedy group Monty Python – and in playful approaches to some tutorials and reference materials. For instance, some code examples use the terms \"spam\" and \"eggs\" (in reference to a Monty Python sketch), rather than the typical terms \"foo\" and \"bar\".\\nA common neologism in the Python community is pythonic, which has a wide range of meanings related to program style: Pythonic code may use Python idioms well; be natural or show fluency in the language; or conform with Python\\'s minimalist philosophy and emphasis on readability.\\n\\n\\n== Syntax and semantics ==\\nPython is meant to be an easily readable language. Its formatting is visually uncluttered and often uses English keywords where other languages use punctuation. Unlike many other languages, it does not use curly brackets to delimit blocks, and semicolons after statements are allowed but rarely used. It has fewer syntactic exceptions and special cases than C or Pascal.\\n\\n\\n=== Indentation ===\\n\\nPython uses whitespace indentation, rather than curly brackets or keywords, to delimit blocks. An increase in indentation comes after certain statements; a decrease in indentation signifies the end of the current block. Thus, the program\\'s visual structure accurately represents its semantic structure. This feature is sometimes termed the off-side rule. Some other languages use indentation this way; but in most, indentation has no semantic meaning. The recommended indent size is four spaces.\\n\\n\\n=== Statements and control flow ===\\nPython\\'s statements include the following:\\n\\nThe assignment statement, using a single equals sign =\\nThe if statement, which conditionally executes a block of code, along with else and elif (a contraction of else if)\\nThe for statement, which iterates over an iterable object, capturing each element to a local variable for use by the attached block\\nThe while statement, which executes a block of code as long as boolean condition is true\\nThe try statement, which allows exceptions raised in its attached code block to be caught and handled by except clauses (or new syntax except* in Python 3.11 for exception groups); the try statement also ensures that clean-up code in a finally block is always run regardless of how the block exits\\nThe raise statement, used to raise a specified exception or re-raise a caught exception\\nThe class statement, which executes a block of code and attaches its local namespace to a class, for use in object-oriented programming\\nThe def statement, which defines a function or method\\nThe with statement, which encloses a code block within a context manager, allowing resource-acquisition-is-initialization (RAII)-like behavior and replacing a common try/finally idiom Examples of a context include acquiring a lock before some code is run, and then releasing the lock; or opening and then closing a file\\nThe break statement, which exits a loop\\nThe continue statement, which skips the rest of the current iteration and continues with the next\\nThe del statement, which removes a variable—deleting the reference from the name to the value, and producing an error if the variable is referred to before it is redefined \\nThe pass statement, serving as a NOP (i.e., no operation), which is syntactically needed to create an empty code block\\nThe assert statement, used in debugging to check for conditions that should apply\\nThe yield statement, which returns a value from a generator function (and also an operator); used to implement coroutines\\nThe return statement, used to return a value from a function\\nThe import and from statements, used to import modules whose functions or variables can be used in the current program\\nThe match and case statements, analogous to a switch statement construct, which compares an expression against one or more cases as a control-flow measure\\nThe assignment statement (=) binds a name as a reference to a separate, dynamically allocated object. Variables may subsequently be rebound at any time to any object. In Python, a variable name is a generic reference holder without a fixed data type; however, it always refers to some object with a type. This is called dynamic typing—in contrast to statically-typed languages, where each variable may contain only a value of a certain type.\\nPython does not support tail call optimization or first-class continuations; according to Van Rossum, the language never will. However, better support for coroutine-like functionality is provided by extending Python\\'s generators. Before 2.5, generators were lazy iterators; data was passed unidirectionally out of the generator. From Python 2.5 on, it is possible to pass data back into a generator function; and from version 3.3, data can be passed through multiple stack levels.\\n\\n\\n=== Expressions ===\\nPython\\'s expressions include the following:\\n\\nThe +, -, and * operators for mathematical addition, subtraction, and multiplication are similar to other languages, but the behavior of division differs. There are two types of division in Python: floor division (or integer division) //, and floating-point division /. Python uses the ** operator for exponentiation.\\nPython uses the + operator for string concatenation. The language uses the * operator for duplicating a string a specified number of times.\\nThe @ infix operator is intended to be used by libraries such as NumPy for matrix multiplication.\\nThe syntax :=, called the \"walrus operator\", was introduced in Python 3.8. This operator assigns values to variables as part of a larger expression.\\nIn Python, == compares two objects by value. Python\\'s is operator may be used to compare object identities (i.e., comparison by reference), and comparisons may be chained—for example, a <= b <= c.\\nPython uses and, or, and not as Boolean operators.\\nPython has a type of expression called a list comprehension, and a more general expression called a generator expression.\\nAnonymous functions are implemented using lambda expressions; however, there may be only one expression in each body.\\nConditional expressions are written as x if c else y. (This is different in operand order from the c ? x : y operator common to many other languages.)\\nPython makes a distinction between lists and tuples. Lists are written as [1, 2, 3], are mutable, and cannot be used as the keys of dictionaries (since dictionary keys must be immutable in Python). Tuples, written as (1, 2, 3), are immutable and thus can be used as the keys of dictionaries, provided that all of the tuple\\'s elements are immutable. The + operator can be used to concatenate two tuples, which does not directly modify their contents, but produces a new tuple containing the elements of both. For example, given the variable t initially equal to (1, 2, 3), executing t = t + (4, 5) first evaluates t + (4, 5), which yields (1, 2, 3, 4, 5); this result is then assigned back to t—thereby effectively \"modifying the contents\" of t while conforming to the immutable nature of tuple objects. Parentheses are optional for tuples in unambiguous contexts.\\nPython features sequence unpacking where multiple expressions, each evaluating to something assignable (e.g., a variable or a writable property) are associated just as in forming tuple literal; as a whole, the results are then put on the left-hand side of the equal sign in an assignment statement. This statement expects an iterable object on the right-hand side of the equal sign to produce the same number of values as the writable expressions on the left-hand side; while iterating, the statement assigns each of the values produced on the right to the corresponding expression on the left.\\nPython has a \"string format\" operator % that functions analogously to printf format strings in the C language—e.g. \"spam=%s eggs=%d\" % (\"blah\", 2) evaluates to \"spam=blah eggs=2\". In Python 2.6+ and 3+, this operator was supplemented by the format() method of the str class, e.g., \"spam={0} eggs={1}\".format(\"blah\", 2). Python 3.6 added \"f-strings\": spam = \"blah\"; eggs = 2; f\\'spam={spam} eggs={eggs}\\'.\\nStrings in Python can be concatenated by \"adding\" them (using the same operator as for adding integers and floats); e.g., \"spam\" + \"eggs\" returns \"spameggs\". If strings contain numbers, they are concatenated as strings rather than as integers, e.g. \"2\" + \"2\" returns \"22\".\\nPython supports string literals in several ways:\\nDelimited by single or double quotation marks; single and double quotation marks have equivalent functionality (unlike in Unix shells, Perl, and Perl-influenced languages). Both marks use the backslash (\\\\) as an escape character. String interpolation became available in Python 3.6 as \"formatted string literals\".\\nTriple-quoted, i.e., starting and ending with three single or double quotation marks; this may span multiple lines and function like here documents in shells, Perl, and Ruby.\\nRaw string varieties, denoted by prefixing the string literal with r. Escape sequences are not interpreted; hence raw strings are useful where literal backslashes are common, such as in regular expressions and Windows-style paths. (Compare \"@-quoting\" in C#.)\\nPython has array index and array slicing expressions in lists, which are written as a[key], a[start:stop] or a[start:stop:step]. Indexes are zero-based, and negative indexes are relative to the end. Slices take elements from the start index up to, but not including, the stop index. The (optional) third slice parameter, called step or stride, allows elements to be skipped or reversed. Slice indexes may be omitted—for example, a[:] returns a copy of the entire list. Each element of a slice is a shallow copy.\\nIn Python, a distinction between expressions and statements is rigidly enforced, in contrast to languages such as Common Lisp, Scheme, or Ruby. This distinction leads to duplicating some functionality, for example:\\n\\nList comprehensions vs. for-loops\\nConditional expressions vs. if blocks\\nThe eval() vs. exec() built-in functions (in Python 2, exec is a statement); the former function is for expressions, while the latter is for statements\\nA statement cannot be part of an expression; because of this restriction, expressions such as list and dict comprehensions (and lambda expressions) cannot contain statements. As a particular case, an assignment statement such as a = 1 cannot be part of the conditional expression of a conditional statement.\\n\\n\\n=== Typing ===\\n\\nPython uses duck typing, and it has typed objects but untyped variable names. Type constraints are not checked at definition time; rather, operations on an object may fail at usage time, indicating that the object is not of an appropriate type. Despite being dynamically typed, Python is strongly typed, forbidding operations that are poorly defined (e.g., adding a number and a string) rather than quietly attempting to interpret them.\\nPython allows programmers to define their own types using classes, most often for object-oriented programming. New instances of classes are constructed by calling the class, for example, SpamClass() or EggsClass()); the classes are instances of the metaclass type (which is an instance of itself), thereby allowing metaprogramming and reflection.\\nBefore version 3.0, Python had two kinds of classes, both using the same syntax: old-style and new-style. Current Python versions support the semantics of only the new style.\\nPython supports optional type annotations. These annotations are not enforced by the language, but may be used by external tools such as mypy to catch errors. Python includes a module typing including several type names for type annotations. Mypy also supports a Python compiler called mypyc, which leverages type annotations for optimization.\\n\\n\\n=== Arithmetic operations ===\\nPython includes conventional symbols for arithmetic operators (+, -, *, /), the floor-division operator //, and the modulo operator %. (With the modulo operator, a remainder can be negative, e.g., 4 % -3 == -2.) Python also offers the ** symbol for exponentiation, e.g. 5**3 == 125 and 9**0.5 == 3.0; it also offers the matrix‑multiplication operator @ . These operators work as in traditional mathematics; with the same precedence rules, the infix operators + and - can also be unary, to represent positive and negative numbers respectively.\\nDivision between integers produces floating-point results. The behavior of division has changed significantly over time:\\n\\nThe current version of Python (i.e., since 3.0) changed the / operator to always represent floating-point division, e.g., 5/2 == 2.5.\\nThe floor division // operator was introduced, meaning that 7//3 == 2, -7//3 == -3, 7.5//3 == 2.0, and -7.5//3 == -3.0. For Python 2.7, adding the from __future__ import division statement allows a module in Python 2.7 to use Python 3.x rules for division (see above).\\nIn Python terms, the / operator represents true division (or simply division), while the // operator represents floor division. Before version 3.0, the / operator represents classic division.\\nRounding towards negative infinity, though a different method than in most languages, adds consistency to Python. For instance, this rounding implies that the equation (a + b)//b == a//b + 1 is always true. The rounding also implies that the equation b*(a//b) + a%b == a is valid for both positive and negative values of a. As expected, the result of a%b lies in the half-open interval [0, b), where b is a positive integer; however, maintaining the validity of the equation requires that the result must lie in the interval (b, 0] when b is negative.\\nPython provides a round function for rounding a float to the nearest integer. For tie-breaking, Python 3 uses the round to even method: round(1.5) and round(2.5) both produce 2. Python versions before 3 used the round-away-from-zero method: round(0.5) is 1.0, and round(-0.5) is −1.0.\\nPython allows Boolean expressions that contain multiple equality relations to be consistent with general usage in mathematics. For example, the expression a < b < c tests whether a is less than b and b is less than c. C-derived languages interpret this expression differently: in C, the expression would first evaluate a < b, resulting in 0 or 1, and that result would then be compared with c.\\nPython uses arbitrary-precision arithmetic for all integer operations. The Decimal type/class in the decimal module provides decimal floating-point numbers to a pre-defined arbitrary precision with several rounding modes. The Fraction class in the fractions module provides arbitrary precision for rational numbers.\\nDue to Python\\'s extensive mathematics library and the third-party library NumPy, the language is frequently used for scientific scripting in tasks such as numerical data processing and manipulation.\\n\\n\\n=== Function syntax ===\\nFunctions are created in Python by using the def keyword. A function is defined similarly to how it is called, by first providing the function name and then the required parameters. Here is an example of a function that prints its inputs:\\n\\nTo assign a default value to a function parameter in case no actual value is provided at run time, variable-definition syntax can be used inside the function header.\\n\\n\\n== Code examples ==\\n\"Hello, World!\" program:\\n\\nProgram to calculate the factorial of a positive integer:\\n\\n\\n== Libraries ==\\nPython\\'s large standard library is commonly cited as one of its greatest strengths. For Internet-facing applications, many standard formats and protocols such as MIME and HTTP are supported. The language includes modules for creating graphical user interfaces, connecting to relational databases, generating pseudorandom numbers, arithmetic with arbitrary-precision decimals, manipulating regular expressions, and unit testing.\\nSome parts of the standard library are covered by specifications—for example, the Web Server Gateway Interface (WSGI) implementation wsgiref follows PEP 333—but most parts are specified by their code, internal documentation, and test suites. However, because most of the standard library is cross-platform Python code, only a few modules must be altered or rewritten for variant implementations.\\nAs of 13 March 2025, the Python Package Index (PyPI), the official repository for third-party Python software, contains over 614,339 packages.\\n\\n\\n== Development environments ==\\n\\nMost Python implementations (including CPython) include a read–eval–print loop (REPL); this permits the environment to function as a command line interpreter, with which users enter statements sequentially and receive results immediately.\\nPython is also bundled with an integrated development environment (IDE) called IDLE, which is oriented toward beginners.\\nOther shells, including IDLE and IPython, add additional capabilities such as improved auto-completion, session-state retention, and syntax highlighting.\\nStandard desktop IDEs include PyCharm, Spyder, and Visual Studio Code; there are also web browser-based IDEs, such as the following environments:\\n\\nJupyter Notebooks, an open-source interactive computing platform;\\nPythonAnywhere, a browser-based IDE and hosting environment; and\\nCanopy, a commercial IDE from Enthought that emphasizes scientific computing.\\n\\n\\n== Implementations ==\\n\\n\\n=== Reference implementation ===\\nCPython is the reference implementation of Python. This implementation is written in C, meeting the C11 standard since version 3.11. Older versions use the C89 standard with several select C99 features, but third-party extensions are not limited to older C versions—e.g., they can be implemented using C11 or C++. CPython compiles Python programs into an intermediate bytecode, which is then executed by a virtual machine. CPython is distributed with a large standard library written in a combination of C and native Python.\\nCPython is available for many platforms, including Windows and most modern Unix-like systems, including macOS (and Apple M1 Macs, since Python 3.9.1, using an experimental installer). Starting with Python 3.9, the Python installer intentionally fails to install on Windows 7 and 8; Windows XP was supported until Python 3.5, with unofficial support for VMS. Platform portability was one of Python\\'s earliest priorities. During development of Python 1 and 2, even OS/2 and Solaris were supported; since that time, support has been dropped for many platforms.\\nAll current Python versions (since 3.7) support only operating systems that feature multithreading, by now supporting not nearly as many operating systems (dropping many outdated) than in the past.\\n\\n\\n=== Other implementations ===\\nAll alternative implementations have at least slightly different semantics. For example, an alternative may include unordered dictionaries, in contrast to other current Python versions. As another example in the larger Python ecosystem, PyPy does not support the full C Python API. Alternative implementations include the following:\\n\\nPyPy is a fast, compliant interpreter of Python 2.7 and  3.10. PyPy\\'s just-in-time compiler often improves speed significantly relative to CPython, but PyPy does not support some libraries written in C. PyPy offers support for the RISC-V instruction-set architecture.\\nCodon is an implementation with an ahead-of-time (AOT) compiler, which compiles a statically-typed Python-like language whose \"syntax and semantics are nearly identical to Python\\'s, there are some notable differences\" For example, Codon uses 64-bit machine integers for speed, not arbitrarily as with Python; Codon developers claim that speedups over CPython are usually on the order of ten to a hundred times. Codon compiles to machine code (via LLVM) and supports native multithreading.  Codon can also compile to Python extension modules that can be imported and used from Python.\\nMicroPython and CircuitPython are Python 3 variants that are optimized for microcontrollers, including the Lego Mindstorms EV3.\\nPyston is a variant of the Python runtime that uses just-in-time compilation to speed up execution of Python programs.\\nCinder is a performance-oriented fork of CPython 3.8 that features a number of optimizations, including bytecode inline caching, eager evaluation of coroutines, a method-at-a-time JIT, and an experimental bytecode compiler.\\nThe Snek embedded computing language \"is Python-inspired, but it is not Python. It is possible to write Snek programs that run under a full Python system, but most Python programs will not run under Snek.\" Snek is compatible with 8-bit AVR microcontrollers such as ATmega 328P-based Arduino, as well as larger microcontrollers that are compatible with MicroPython. Snek is an imperative language that (unlike Python) omits object-oriented programming. Snek supports only one numeric data type, which features 32-bit single precision (resembling JavaScript numbers, though smaller).\\n\\n\\n=== Unsupported implementations ===\\nStackless Python is a significant fork of CPython that implements microthreads. This implementation uses the call stack differently, thus allowing massively concurrent programs. PyPy also offers a stackless version.\\nJust-in-time Python compilers have been developed, but are now unsupported:\\n\\nGoogle began a project named Unladen Swallow in 2009: this project aimed to speed up the Python interpreter five-fold by using LLVM, and improve multithreading capability for scaling to thousands of cores, while typical implementations are limited by the global interpreter lock.\\nPsyco is a discontinued just-in-time specializing compiler, which integrates with CPython and transforms bytecode to machine code at runtime. The emitted code is specialized for certain data types and is faster than standard Python code. Psyco does not support Python 2.7 or later.\\nPyS60 was a Python 2 interpreter for Series 60 mobile phones, which was released by Nokia in 2005. The interpreter implemented many modules from Python\\'s standard library, as well as additional modules for integration with the Symbian operating system. The Nokia N900 also supports Python through the GTK widget library, allowing programs to be written and run on the target device.\\n\\n\\n=== Cross-compilers to other languages ===\\nThere are several compilers/transpilers to high-level object languages; the source language is unrestricted Python, a subset of Python, or a language similar to Python:\\n\\nBrython and Transcrypt compile Python to JavaScript.\\nCython compiles a superset of Python to C. The resulting code can be used with Python via direct C-level API calls into the Python interpreter.\\nPyJL compiles/transpiles a subset of Python to \"human-readable, maintainable, and high-performance Julia source code\". Despite the developers\\' performance claims, this is not possible for arbitrary Python code; that is, compiling to a faster language or machine code is known to be impossible in the general case. The semantics of Python might potentially be changed, but in many cases speedup is possible with few or no changes in the Python code. The faster Julia source code can then be used from Python or compiled to machine code.\\nNuitka compiles Python into C. This compiler works with Python 3.4 to 3.12 (and 2.6 and 2.7) for Python\\'s main supported platforms (and Windows 7 or even Windows XP) and for Android. The compiler developers claim full support for Python 3.10, partial support for Python 3.11 and 3.12,  and experimental support for Python 3.13. Nuitka supports macOS including Apple Silicon-based versions.  The compiler is free of cost, though it has commercial add-ons (e.g., for hiding source code).\\nNumba is a JIT compiler that is used from Python; the compiler translates a subset of Python and NumPy code into fast machine code. This tool is enabled by adding a decorator to the relevant Python code.\\nPythran compiles a subset of Python 3 to C++ (C++11).\\nRPython can be compiled to C, and it is used to build the PyPy interpreter for Python.\\nThe Python → 11l → C++ transpiler compiles a subset of Python 3 to C++ (C++17).\\nThere are also specialized compilers:\\n\\nMyHDL is a Python-based hardware description language (HDL) that converts MyHDL code to Verilog or VHDL code.\\nSome older projects existed, as well as compilers not designed for use with Python 3.x and related syntax:\\n\\nGoogle\\'s Grumpy transpiles Python 2 to Go. The latest release was in 2017.\\nIronPython allows running Python 2.7 programs with the .NET Common Language Runtime. An alpha version (released in 2021), is available for \"Python 3.4, although features and behaviors from later versions may be included.\"\\nJython compiles Python 2.7 to Java bytecode, allowing the use of Java libraries from a Python program.\\nPyrex (last released in 2010) and Shed Skin (last released in 2013) compile to C and C++ respectively.\\n\\n\\n=== Performance ===\\nA performance comparison among various Python implementations, using a non-numerical (combinatorial) workload, was presented at EuroSciPy \\'13. In addition, Python\\'s performance relative to other programming languages is benchmarked by The Computer Language Benchmarks Game.\\nThere are several approaches to optimizing Python performance, given the inherent slowness of an interpreted language. These approaches include the following strategies or tools:\\n\\nJust-in-time compilation: Dynamically compiling Python code just before it is executed. This technique is used in libraries such as Numba and PyPy.\\nStatic compilation: Python code is compiled into machine code sometime before execution. An example of this approach is Cython, which compiles Python into C.\\nConcurrency and parallelism: Multiple tasks can be run simultaneously. Python contains modules such as `multiprocessing` to support this form of parallelism. Moreover, this approach helps to overcome limitations of the Global Interpreter Lock (GIL) in CPU tasks.\\nEfficient data structures: Performance can also be improved by using data types such as Set for membership tests, or deque from collections for queue operations.\\n\\n\\n== Language Development ==\\nPython\\'s development is conducted largely through the Python Enhancement Proposal (PEP) process; this process is the primary mechanism for proposing major new features, collecting community input on issues, and documenting Python design decisions. Python coding style is covered in PEP 8. Outstanding PEPs are reviewed and commented on by the Python community and the steering council.\\nEnhancement of the language corresponds with development of the CPython reference implementation. The mailing list python-dev is the primary forum for the language\\'s development. Specific issues were originally discussed in the Roundup bug tracker hosted by the foundation. In 2022, all issues and discussions were migrated to GitHub. Development originally took place on a self-hosted source-code repository running Mercurial, until Python moved to GitHub in January 2017.\\nCPython\\'s public releases have three types, distinguished by which part of the version number is incremented:\\n\\nBackward-incompatible versions, where code is expected to break and must be manually ported. The first part of the version number is incremented. These releases happen infrequently—version 3.0 was released 8 years after 2.0. According to Guido van Rossum, a version 4.0 will probably never exist.\\nMajor or \"feature\" releases are largely compatible with the previous version but introduce new features. The second part of the version number is incremented. Starting with Python 3.9, these releases are expected to occur annually. Each major version is supported by bug fixes for several years after its release.\\nBug fix releases, which introduce no new features, occur approximately every three months; these releases are made when a sufficient number of bugs have been fixed upstream since the last release. Security vulnerabilities are also patched in these releases. The third and final part of the version number is incremented.\\nMany alpha, beta, and release-candidates are also released as previews and for testing before final releases. Although there is a rough schedule for releases, they are often delayed if the code is not ready yet. Python\\'s development team monitors the state of the code by running a large unit test suite during development.\\nThe major academic conference on Python is PyCon. There are also special Python mentoring programs, such as PyLadies.\\n\\n\\n== Naming ==\\nPython\\'s name is inspired by the British comedy group Monty Python, whom Python creator Guido van Rossum enjoyed while developing the language. Monty Python references appear frequently in Python code and culture; for example, the metasyntactic variables often used in Python literature are spam and eggs, rather than the traditional foo and bar. The official Python documentation also contains various references to Monty Python routines. Python users are sometimes referred to as \"Pythonistas\".\\nThe affix Py is often used when naming Python applications or libraries. Some examples include the following:\\n\\nPygame, a binding of Simple DirectMedia Layer to Python (commonly used to create games);\\nPyQt and PyGTK, which bind Qt and GTK to Python respectively;\\nPyPy, a Python implementation originally written in Python;\\nNumPy, a Python library for numerical processing.\\nJupyter, a notebook interface and associated project for interactive computing\\n\\n\\n== See also ==\\n\\nGoogle Colab –  zero setup online IDE that runs Python\\nList of Python programming books\\npip (package manager)\\n\\n\\n== External links ==\\nPython documentation\\n\\n\\n== Notes ==\\n\\n\\n== References ==\\n\\n\\n=== Sources ===\\n\"Python for Artificial Intelligence\". Python Wiki. 19 July 2012. Archived from the original on 1 November 2012. Retrieved 3 December 2012.\\nPaine, Jocelyn, ed. (August 2005). \"AI in Python\". AI Expert Newsletter. Amzi!. Archived from the original on 26 March 2012. Retrieved 11 February 2012.\\n\"PyAIML 0.8.5: Python Package Index\". Pypi.python.org. Retrieved 17 July 2013.\\nRussell, Stuart J. & Norvig, Peter (2009). Artificial Intelligence: A Modern Approach (3rd ed.). Upper Saddle River, NJ: Prentice Hall. ISBN 978-0-13-604259-4.\\n\\n\\n== Further reading ==\\nDowney, Allen (July 2024). Think Python: How to Think Like a Computer Scientist (3rd ed.). O\\'Reilly Media. ISBN 978-1-0981-5543-8.\\nLutz, Mark (2013). Learning Python (5th ed.). O\\'Reilly Media. ISBN 978-0-596-15806-4.\\nSummerfield, Mark (2009). Programming in Python 3 (2nd ed.). Addison-Wesley Professional. ISBN 978-0-321-68056-3.\\nRamalho, Luciano (May 2022). Fluent Python. O\\'Reilly Media. ISBN 978-1-4920-5632-4.\\n\\n\\n== External links ==\\n\\nOfficial website \\nThe Python Tutorial'),\n",
       " Document(metadata={'source': 'Wikipedia:Groq'}, page_content='Grok () is a neologism coined by the American writer Robert A. Heinlein for his 1961 science fiction novel Stranger in a Strange Land. While the Oxford English Dictionary summarizes the meaning of grok as \"to understand intuitively or by empathy, to establish rapport with\" and \"to empathize or communicate sympathetically (with); also, to experience enjoyment\", Heinlein\\'s concept of a human who comes to Earth in early adulthood after being born on the planet Mars is far more nuanced, with critic Istvan Csicsery-Ronay Jr. observing that \"the book\\'s major theme can be seen as an extended definition of the term.\" The concept of grok garnered significant critical scrutiny in the years after the book\\'s initial publication. The term and aspects of the underlying concept have become part of communities such as computer science.\\n\\n\\n== Descriptions in Stranger in a Strange Land ==\\nCritic David E. Wright Sr. points out that in the 1991 \"uncut\" edition of Stranger, the word grok \"was used first without any explicit definition on page 22\" and continued to be used without being explicitly defined until page 253 (emphasis in original). He notes that this first intensional definition is simply \"to drink\", but that this is only a metaphor \"much as English \\'I see\\' often means the same as \\'I understand\\'\". Critics have bridged this absence of explicit definition by citing passages from Stranger that illustrate the term. A selection of these passages follows:\\n\\nGrok means \"to understand\", of course, but Dr. Mahmoud, who might be termed the leading Terran expert on Martians, explains that it also means, \"to drink\" and \"a hundred other English words, words which we think of as antithetical concepts. \\'Grok\\' means all of these. It means \\'fear\\', it means \\'love\\', it means \\'hate\\' — proper hate, for by the Martian \\'map\\' you cannot hate anything unless you grok it, understand it so thoroughly that you merge with it and it merges with you — then you can hate it. By hating yourself. But this implies that you love it, too, and cherish it and would not have it otherwise. Then you can hate — and (I think) Martian hate is an emotion so black that the nearest human equivalent could only be called mild distaste.\\nGrok means \"identically equal\". The human cliché \"This hurts me worse than it does you\" has a distinctly Martian flavor. The Martian seems to know instinctively what we learned painfully from modern physics, that observer acts with observed through the process of observation. Grok means to understand so thoroughly that the observer becomes a part of the observed — to merge, blend, intermarry, lose identity in group experience. It means almost everything that we mean by religion, philosophy, and science and it means as little to us as color does to a blind man.\\nThe Martian Race had encountered the people of the fifth planet, grokked them completely, and had taken action; asteroid ruins were all that remained, save that the Martians continued to praise and cherish the people they had destroyed.\\nAll that groks is God.\\n\\n\\n== Etymology ==\\nRobert A. Heinlein originally coined the term grok in his 1961 novel Stranger in a Strange Land as a Martian word that could not be defined in Earthling terms, but can be associated with various literal meanings such as \"water\", \"to drink\", \"to relate\", \"life\", or \"to live\", and had a much more profound figurative meaning that is hard for terrestrial culture to understand because of its assumption of a singular reality.\\nAccording to the book, drinking water is a central focus on Mars, where it is scarce. Martians use the merging of their bodies with water as a simple example or symbol of how two entities can combine to create a new reality greater than the sum of its parts. The water becomes part of the drinker, and the drinker part of the water. Both grok each other. Things that once had separate realities become entangled in the same experiences, goals, history, and purpose. Within the book, the statement of divine immanence verbalized among the main characters, \"thou art God\", is logically derived from the concept inherent in the term grok.\\nHeinlein describes Martian words as \"guttural\" and \"jarring\". Martian speech is described as sounding \"like a bullfrog fighting a cat\". Accordingly, grok is generally pronounced as a guttural gr terminated by a sharp k with very little or no vowel sound (a narrow IPA transcription might be [ɡɹ̩kʰ]). William Tenn suggests Heinlein in creating the word might have been influenced by Tenn\\'s very similar concept of griggo, earlier introduced in Tenn\\'s story Venus and the Seven Sexes (published in 1949). In his later afterword to the story, Tenn says Heinlein considered such influence \"very possible\".\\n\\n\\n== Adoption and modern usage ==\\n\\n\\n=== In computer programmer culture ===\\nUses of the word in the decades after the 1960s are more concentrated in computer culture, such as an InfoWorld columnist in 1984 imagining a computer saying, \"There isn\\'t any software! Only different internal states of hardware. It\\'s all hardware! It\\'s a shame programmers don\\'t grok that better.\"\\nThe Jargon File, which describes itself as \"The Hacker\\'s Dictionary\" and has been published under that name three times, puts grok in a programming context:\\n\\nWhen you claim to \"grok\" some knowledge or technique, you are asserting that you have not merely learned it in a detached instrumental way but that it has become part of you, part of your identity. For example, to say that you \"know\" Lisp is simply to assert that you can code in it if necessary – but to say you \"grok\" Lisp is to claim that you have deeply entered the world-view and spirit of the language, with the implication that it has transformed your view of programming. Contrast zen, which is a similar supernatural understanding experienced as a single brief flash.\\nThe entry existed in the very earliest forms of the Jargon File in the early 1980s. \\nThe book Perl Best Practices defines grok as understanding a portion of computer code in a profound way. It goes on to suggest that to re-grok code is to reload the intricacies of that portion of code into one\\'s memory after some time has passed and all the details of it are no longer remembered. In that sense, to grok means to load everything into memory for immediate use. It is analogous to the way a processor caches memory for short term use, but the only implication by this reference was that it was something a human (or perhaps a Martian) would do.\\n\\n\\n==== Examples of usage ====\\nA typical tech usage from the Linux Bible characterizes the Unix software development philosophy as \"one that can make your life a lot simpler once you grok the idea\".\\nThe book Cyberia covers its use in this subculture extensively:\\n\\nThis is all latter day usage, the original derivation was from an early text processing utility from so long ago that no one remembers but, grok was the output when it understood the file. K&R would remember.\\nThe main web page for cURL, an open source tool and programming library, describes the function of cURL as \"cURL groks URLs\".\\nThe keystroke logging software used by the NSA for its remote intelligence gathering operations is named GROK.\\nOne of the most powerful parsing filters used in Elasticsearch software\\'s logstash component is named grok.\\nA reference book by Carey Bunks on the use of the GNU Image Manipulation Program is titled Grokking the GIMP.\\nThe generative artificial intelligence chatbot developed by xAI is named Grok.\\n\\n\\n=== In counterculture ===\\n\\nTom Wolfe, in his book The Electric Kool-Aid Acid Test (1968), describes a character\\'s thoughts during an acid trip: \"He looks down, two bare legs, a torso rising up at him and like he is just noticing them for the first time ... he has never seen any of this flesh before, this stranger. He groks over that ...\"\\nIn his counterculture Volkswagen repair manual, How to Keep Your Volkswagen Alive: A Manual of Step-by-Step Procedures for the Compleat Idiot (1969), dropout aerospace engineer John Muir instructs prospective used VW buyers to \"grok the car\" before buying.\\nThe word was used numerous times by Robert Anton Wilson in his works The Illuminatus! Trilogy and Schrödinger\\'s Cat Trilogy. For instance, in The Eye in the Pyramid, volume one of Illuminatus:\\nI caught the references to Aristotle, the old man of the tribe with his unfortunate epistemological paresis, and also to that feisty little lady I always imagine is really the lost Anastasia, but I still didn’t grok. “What do you mean?” I asked (...)\\nAnd in The Trick Top Hat, volume two of Schrödinger\\'s Cat:\\nWilliams went on. \"You\\'ve got to think of time ripples, as well as space ripples, to grok the quantum world. ...\"\\n\\n\\n== See also ==\\n\\n(in German) Anschauung –  related \"sense-perception\" concept in Kantian philosophy\\nAppropriation (sociology) – Assimilation of concepts into a governing framework\\nBeing-in-the-world – a term in the existentialist philosophy of Martin Heidegger, aimed at deconstructing the subject–object distinction\\nGeek\\nGrokking (machine learning) - a transition to generalization that occurs many training iterations after the interpolation threshold, after many iterations of seemingly little progress\\nIntrojection vs assimilation in Fritz and Laura Perls\\' gestalt therapy – analogous to memorizing vs grokking\\nKnowledge by acquaintance and knowledge by description – a distinction in philosophy between familiarity with a person, place, or thing and knowledge of facts\\nLogos – a term in Western philosophy that has been used to describe various forms of knowledge and reasoning\\nNerd\\nPhenomenology (psychology) – the study of subjective experience\\nQi – Vital force in traditional Chinese philosophy\\n\\n\\n== References ==\\n\\n\\n== External links ==\\n\\n\"Grok\". The Jargon File (version 4.4.7). Retrieved 9 September 2013.\\nSF citations for grok gathered for the Oxford English Dictionary by Jesse Sheidlower of the Historical Dictionary of Science Fiction\\nLee, Charles (February 2002). \"Grok and the Vanguard of Science\". Groks Science Radio Show and Podcast. Retrieved 2 August 2022.\\n\"grok\". Merriam-Webster Dictionary. Merriam-Webster, Incorporated. Retrieved 2 August 2022.\\n\"grok\". The Free Dictionary. Farlex, Incorporated. Retrieved 2 August 2022.\\nWikiQuote on Stranger in a Strange Land includes many uses of grok')]"
      ]
     },
     "execution_count": 8,
     "metadata": {},
     "output_type": "execute_result"
    }
   ],
   "source": [
    "load_wikipedia_articles([\"Python (programming language)\", \"LangChain\", \"Groq\"])"
   ]
  },
  {
   "cell_type": "code",
   "execution_count": null,
   "id": "02aa7bf7",
   "metadata": {},
   "outputs": [],
   "source": []
  }
 ],
 "metadata": {
  "kernelspec": {
   "display_name": "venv",
   "language": "python",
   "name": "python3"
  },
  "language_info": {
   "codemirror_mode": {
    "name": "ipython",
    "version": 3
   },
   "file_extension": ".py",
   "mimetype": "text/x-python",
   "name": "python",
   "nbconvert_exporter": "python",
   "pygments_lexer": "ipython3",
   "version": "3.12.2"
  }
 },
 "nbformat": 4,
 "nbformat_minor": 5
}
