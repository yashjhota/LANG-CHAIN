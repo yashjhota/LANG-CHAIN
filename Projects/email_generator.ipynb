{
 "cells": [
  {
   "cell_type": "code",
   "execution_count": 1,
   "id": "a9110001",
   "metadata": {},
   "outputs": [
    {
     "name": "stderr",
     "output_type": "stream",
     "text": [
      "USER_AGENT environment variable not set, consider setting it to identify your requests.\n"
     ]
    }
   ],
   "source": [
    "from langchain_groq import ChatGroq\n",
    "from langchain.prompts import PromptTemplate\n",
    "from dotenv import load_dotenv\n",
    "from langchain_community.document_loaders import WebBaseLoader\n",
    "from langchain_core.output_parsers import JsonOutputParser\n"
   ]
  },
  {
   "cell_type": "code",
   "execution_count": 2,
   "id": "1c14bc09",
   "metadata": {},
   "outputs": [
    {
     "data": {
      "text/plain": [
       "True"
      ]
     },
     "execution_count": 2,
     "metadata": {},
     "output_type": "execute_result"
    }
   ],
   "source": [
    "load_dotenv()"
   ]
  },
  {
   "cell_type": "code",
   "execution_count": 5,
   "id": "234be13a",
   "metadata": {},
   "outputs": [],
   "source": [
    "llm = ChatGroq(\n",
    "    model=\"openai/gpt-oss-20b\",\n",
    "    temperature=0.0,\n",
    "    max_retries=2\n",
    ")"
   ]
  },
  {
   "cell_type": "code",
   "execution_count": 6,
   "id": "41942eca",
   "metadata": {},
   "outputs": [
    {
     "name": "stdout",
     "output_type": "stream",
     "text": [
      "Jainism is traditionally credited to **Mahavira (Vardhamana)**, the 24th Tirthankara.  \n",
      "He lived around 599 – 527 BCE and is regarded as the last and most prominent reformer who formalized the teachings, organized the community, and established the core doctrines that define Jainism today. While earlier Tirthankaras are revered as spiritual exemplars, Mahavira is the figure most commonly referred to as the “founder” or “reformer” of the religion.\n"
     ]
    }
   ],
   "source": [
    "response =llm.invoke(\"Who founded jainism?\")\n",
    "print(response.content)"
   ]
  },
  {
   "cell_type": "code",
   "execution_count": 8,
   "id": "1a451737",
   "metadata": {},
   "outputs": [
    {
     "ename": "ModuleNotFoundError",
     "evalue": "No module named 'bs4'",
     "output_type": "error",
     "traceback": [
      "\u001b[31m---------------------------------------------------------------------------\u001b[39m",
      "\u001b[31mModuleNotFoundError\u001b[39m                       Traceback (most recent call last)",
      "\u001b[36mCell\u001b[39m\u001b[36m \u001b[39m\u001b[32mIn[8]\u001b[39m\u001b[32m, line 3\u001b[39m\n\u001b[32m      1\u001b[39m loader = WebBaseLoader(\u001b[33m\"\u001b[39m\u001b[33mhttps://www.google.com/about/careers/applications/jobs/results/110690555461018310-software-engineer-iii-infrastructure-core\u001b[39m\u001b[33m\"\u001b[39m)\n\u001b[32m----> \u001b[39m\u001b[32m3\u001b[39m data = \u001b[43mloader\u001b[49m\u001b[43m.\u001b[49m\u001b[43mload\u001b[49m\u001b[43m(\u001b[49m\u001b[43m)\u001b[49m\n\u001b[32m      5\u001b[39m \u001b[38;5;28mprint\u001b[39m(data[\u001b[32m0\u001b[39m].page_content)\n",
      "\u001b[36mFile \u001b[39m\u001b[32mf:\\GEN-AI NOTES\\LangChain\\LC\\Lib\\site-packages\\langchain_core\\document_loaders\\base.py:32\u001b[39m, in \u001b[36mBaseLoader.load\u001b[39m\u001b[34m(self)\u001b[39m\n\u001b[32m     30\u001b[39m \u001b[38;5;28;01mdef\u001b[39;00m\u001b[38;5;250m \u001b[39m\u001b[34mload\u001b[39m(\u001b[38;5;28mself\u001b[39m) -> \u001b[38;5;28mlist\u001b[39m[Document]:\n\u001b[32m     31\u001b[39m \u001b[38;5;250m    \u001b[39m\u001b[33;03m\"\"\"Load data into Document objects.\"\"\"\u001b[39;00m\n\u001b[32m---> \u001b[39m\u001b[32m32\u001b[39m     \u001b[38;5;28;01mreturn\u001b[39;00m \u001b[38;5;28;43mlist\u001b[39;49m\u001b[43m(\u001b[49m\u001b[38;5;28;43mself\u001b[39;49m\u001b[43m.\u001b[49m\u001b[43mlazy_load\u001b[49m\u001b[43m(\u001b[49m\u001b[43m)\u001b[49m\u001b[43m)\u001b[49m\n",
      "\u001b[36mFile \u001b[39m\u001b[32mf:\\GEN-AI NOTES\\LangChain\\LC\\Lib\\site-packages\\langchain_community\\document_loaders\\web_base.py:375\u001b[39m, in \u001b[36mWebBaseLoader.lazy_load\u001b[39m\u001b[34m(self)\u001b[39m\n\u001b[32m    373\u001b[39m \u001b[38;5;250m\u001b[39m\u001b[33;03m\"\"\"Lazy load text from the url(s) in web_path.\"\"\"\u001b[39;00m\n\u001b[32m    374\u001b[39m \u001b[38;5;28;01mfor\u001b[39;00m path \u001b[38;5;129;01min\u001b[39;00m \u001b[38;5;28mself\u001b[39m.web_paths:\n\u001b[32m--> \u001b[39m\u001b[32m375\u001b[39m     soup = \u001b[38;5;28;43mself\u001b[39;49m\u001b[43m.\u001b[49m\u001b[43m_scrape\u001b[49m\u001b[43m(\u001b[49m\u001b[43mpath\u001b[49m\u001b[43m,\u001b[49m\u001b[43m \u001b[49m\u001b[43mbs_kwargs\u001b[49m\u001b[43m=\u001b[49m\u001b[38;5;28;43mself\u001b[39;49m\u001b[43m.\u001b[49m\u001b[43mbs_kwargs\u001b[49m\u001b[43m)\u001b[49m\n\u001b[32m    376\u001b[39m     text = soup.get_text(**\u001b[38;5;28mself\u001b[39m.bs_get_text_kwargs)\n\u001b[32m    377\u001b[39m     metadata = _build_metadata(soup, path)\n",
      "\u001b[36mFile \u001b[39m\u001b[32mf:\\GEN-AI NOTES\\LangChain\\LC\\Lib\\site-packages\\langchain_community\\document_loaders\\web_base.py:347\u001b[39m, in \u001b[36mWebBaseLoader._scrape\u001b[39m\u001b[34m(self, url, parser, bs_kwargs)\u001b[39m\n\u001b[32m    341\u001b[39m \u001b[38;5;28;01mdef\u001b[39;00m\u001b[38;5;250m \u001b[39m\u001b[34m_scrape\u001b[39m(\n\u001b[32m    342\u001b[39m     \u001b[38;5;28mself\u001b[39m,\n\u001b[32m    343\u001b[39m     url: \u001b[38;5;28mstr\u001b[39m,\n\u001b[32m    344\u001b[39m     parser: Union[\u001b[38;5;28mstr\u001b[39m, \u001b[38;5;28;01mNone\u001b[39;00m] = \u001b[38;5;28;01mNone\u001b[39;00m,\n\u001b[32m    345\u001b[39m     bs_kwargs: Optional[\u001b[38;5;28mdict\u001b[39m] = \u001b[38;5;28;01mNone\u001b[39;00m,\n\u001b[32m    346\u001b[39m ) -> Any:\n\u001b[32m--> \u001b[39m\u001b[32m347\u001b[39m     \u001b[38;5;28;01mfrom\u001b[39;00m\u001b[38;5;250m \u001b[39m\u001b[34;01mbs4\u001b[39;00m\u001b[38;5;250m \u001b[39m\u001b[38;5;28;01mimport\u001b[39;00m BeautifulSoup\n\u001b[32m    349\u001b[39m     \u001b[38;5;28;01mif\u001b[39;00m parser \u001b[38;5;129;01mis\u001b[39;00m \u001b[38;5;28;01mNone\u001b[39;00m:\n\u001b[32m    350\u001b[39m         \u001b[38;5;28;01mif\u001b[39;00m url.endswith(\u001b[33m\"\u001b[39m\u001b[33m.xml\u001b[39m\u001b[33m\"\u001b[39m):\n",
      "\u001b[31mModuleNotFoundError\u001b[39m: No module named 'bs4'"
     ]
    }
   ],
   "source": [
    "loader = WebBaseLoader(\"https://www.google.com/about/careers/applications/jobs/results/110690555461018310-software-engineer-iii-infrastructure-core\")\n",
    "\n",
    "data = loader.load()\n",
    "\n",
    "print(data[0].page_content)"
   ]
  },
  {
   "cell_type": "code",
   "execution_count": 48,
   "id": "9a9adf15",
   "metadata": {},
   "outputs": [],
   "source": [
    "prompt1 = PromptTemplate(\n",
    "    template=\"\"\"\n",
    "        ### SCRAPED TEXT FROM WEBSITE:\n",
    "        {page_data}\n",
    "        ### INSTRUCTION:\n",
    "        The scraped text is from the career's page of a website.\n",
    "        Your job is to extract the job postings and return them in JSON format containing the \n",
    "        following keys: `role`, `experience`, `skills` and `description`.\n",
    "        Only return the valid JSON.\n",
    "        ### VALID JSON (NO PREAMBLE): \n",
    "    \"\"\"\n",
    ")"
   ]
  },
  {
   "cell_type": "code",
   "execution_count": 49,
   "id": "6b116c70",
   "metadata": {},
   "outputs": [],
   "source": [
    "chain = prompt1 | llm "
   ]
  },
  {
   "cell_type": "code",
   "execution_count": 50,
   "id": "f5574c38",
   "metadata": {},
   "outputs": [],
   "source": [
    "result = chain.invoke({'page_data':data[0].page_content})"
   ]
  },
  {
   "cell_type": "code",
   "execution_count": 51,
   "id": "90c706e8",
   "metadata": {},
   "outputs": [
    {
     "name": "stdout",
     "output_type": "stream",
     "text": [
      "Here is the extracted job posting in JSON format:\n",
      "\n",
      "```\n",
      "[\n",
      "  {\n",
      "    \"role\": \"Software Engineer III, Infrastructure, Core\",\n",
      "    \"experience\": \"2 years of experience with software development in one or more programming languages, or 1 year of experience with an advanced degree.\",\n",
      "    \"skills\": \"data structures or algorithms in either an academic or industry setting\",\n",
      "    \"description\": \"Write product or system development code. Participate in, or lead design reviews with peers and stakeholders to decide amongst available technologies. Review code developed by other developers and provide feedback to ensure best practices (e.g., style guidelines, checking code in, accuracy, testability, and efficiency). Contribute to existing documentation or educational content and adapt content based on product/program updates and user feedback. Triage product or system issues and debug/track/resolve by analyzing the sources of issues and the impact on hardware, network, or service operations and quality.\"\n",
      "  }\n",
      "]\n",
      "```\n",
      "\n",
      "Note that there is only one job posting in the provided text, so the output is a single JSON object. If there were multiple job postings, the output would be a JSON array with multiple objects.\n"
     ]
    }
   ],
   "source": [
    "print(result.content)"
   ]
  },
  {
   "cell_type": "code",
   "execution_count": 54,
   "id": "f518eb5e",
   "metadata": {},
   "outputs": [
    {
     "data": {
      "text/plain": [
       "str"
      ]
     },
     "execution_count": 54,
     "metadata": {},
     "output_type": "execute_result"
    }
   ],
   "source": [
    "type(result.content)"
   ]
  },
  {
   "cell_type": "code",
   "execution_count": 56,
   "id": "12654cdd",
   "metadata": {},
   "outputs": [
    {
     "data": {
      "text/plain": [
       "[{'role': 'Software Engineer III, Infrastructure, Core',\n",
       "  'experience': '2 years of experience with software development in one or more programming languages, or 1 year of experience with an advanced degree.',\n",
       "  'skills': 'data structures or algorithms in either an academic or industry setting',\n",
       "  'description': 'Write product or system development code. Participate in, or lead design reviews with peers and stakeholders to decide amongst available technologies. Review code developed by other developers and provide feedback to ensure best practices (e.g., style guidelines, checking code in, accuracy, testability, and efficiency). Contribute to existing documentation or educational content and adapt content based on product/program updates and user feedback. Triage product or system issues and debug/track/resolve by analyzing the sources of issues and the impact on hardware, network, or service operations and quality.'}]"
      ]
     },
     "execution_count": 56,
     "metadata": {},
     "output_type": "execute_result"
    }
   ],
   "source": [
    "from langchain_core.output_parsers import JsonOutputParser\n",
    "\n",
    "json_parser = JsonOutputParser()\n",
    "json_res = json_parser.parse(result.content)\n",
    "json_res"
   ]
  },
  {
   "cell_type": "code",
   "execution_count": 53,
   "id": "a9131bf8",
   "metadata": {},
   "outputs": [
    {
     "data": {
      "text/plain": [
       "list"
      ]
     },
     "execution_count": 53,
     "metadata": {},
     "output_type": "execute_result"
    }
   ],
   "source": [
    "type(json_res)"
   ]
  },
  {
   "cell_type": "code",
   "execution_count": 85,
   "id": "09c12633",
   "metadata": {},
   "outputs": [
    {
     "name": "stdout",
     "output_type": "stream",
     "text": [
      "Subject: Enhance Your Infrastructure with AtliQ's Expertise\n",
      "\n",
      "Dear [Recipient],\n",
      "\n",
      "I came across your job posting for a Software Engineer III, Infrastructure, Core, and I'm excited to introduce you to AtliQ, a leading AI & Software Consulting company dedicated to streamlining business processes through innovative solutions.\n",
      "\n",
      "Our team of experts has extensive experience in developing scalable and efficient software solutions, and we believe we can help you fulfill your requirements. AtliQ's capabilities align perfectly with your job description, particularly in writing product or system development code, participating in design reviews, and reviewing code for best practices.\n",
      "\n",
      "I'd like to highlight a few relevant projects from our portfolio that demonstrate our expertise in infrastructure development:\n",
      "\n",
      "* [Link to React Portfolio]: Our team has successfully developed scalable and maintainable React applications for various clients, ensuring seamless integration with their existing infrastructure.\n",
      "* [Link to Angular Portfolio]: We've helped numerous clients build robust and efficient Angular applications, leveraging our expertise in data structures and algorithms.\n",
      "* [Link to Vue Portfolio]: Our Vue.js expertise has enabled us to deliver high-performance and scalable applications that meet the needs of our clients.\n",
      "\n",
      "AtliQ's expertise in software development, combined with our understanding of your requirements, makes us an ideal partner for your project. We'd be delighted to discuss how we can contribute to your infrastructure development and help you achieve your goals.\n",
      "\n",
      "Please feel free to reach out to me directly to schedule a call and explore how AtliQ can support your project.\n",
      "\n",
      "Best regards,\n",
      "\n",
      "Myra\n",
      "Business Development Executive\n",
      "Jain & Co.\n"
     ]
    }
   ],
   "source": [
    "prompt_email = PromptTemplate.from_template(\n",
    "       \"\"\"\n",
    "    ### JOB DESCRIPTION:\n",
    "    {job_description}\n",
    "    \n",
    "    ### INSTRUCTION:\n",
    "    You are Myra, a business development executive at Jain & Co.Jain & Cois an AI & Software Consulting company dedicated to facilitating\n",
    "    the seamless integration of business processes through automated tools. \n",
    "    Over our experience, we have empowered numerous enterprises with tailored solutions, fostering scalability, \n",
    "    process optimization, cost reduction, and heightened overall efficiency. \n",
    "    Your job is to write a cold email to the client regarding the job mentioned above describing the capability of AtliQ \n",
    "    in fulfilling their needs.\n",
    "    Also add the most relevant ones from the following links to showcase  portfolio: {link_list}\n",
    "    Remember you are Myra, BDE at Jain & Co. \n",
    "    Do not provide a preamble.\n",
    "    ### EMAIL (NO PREAMBLE):\n",
    "    \n",
    "    \"\"\"\n",
    "\n",
    "        )\n",
    "\n",
    "links = [\"\"\"https://example.com/react-portfolio,\n",
    "https://example.com/angular-portfolio,\n",
    "https://example.com/vue-portfolio,\n",
    "https://example.com/python-portfolio,\n",
    "https://example.com/java-portfolio,\n",
    "https://example.com/flutter-portfolio,\n",
    "https://example.com/wordpress-portfolio,\n",
    "https://example.com/magento-portfolio,\n",
    "https://example.com/react-native-portfolio,\n",
    "https://example.com/ios-portfolio,\n",
    "https://example.com/android-portfolio,\n",
    "https://example.com/kotlin-android-portfolio,\n",
    "\"\"\"]\n",
    "\n",
    "\n",
    "chain_email = prompt_email | llm\n",
    "res = chain_email.invoke({\"job_description\": str(json_res), \"link_list\": links})\n",
    "print(res.content)"
   ]
  },
  {
   "cell_type": "code",
   "execution_count": 9,
   "id": "78e75435",
   "metadata": {},
   "outputs": [
    {
     "name": "stdout",
     "output_type": "stream",
     "text": [
      "Note: you may need to restart the kernel to use updated packages.\n"
     ]
    },
    {
     "name": "stderr",
     "output_type": "stream",
     "text": [
      "\n",
      "[notice] A new release of pip is available: 25.1.1 -> 25.2\n",
      "[notice] To update, run: python.exe -m pip install --upgrade pip\n"
     ]
    }
   ],
   "source": [
    "\n",
    "\n",
    "%pip install -qU duckduckgo-search langchain-community"
   ]
  },
  {
   "cell_type": "code",
   "execution_count": 1,
   "id": "6a2ef54d",
   "metadata": {},
   "outputs": [
    {
     "data": {
      "text/plain": [
       "3"
      ]
     },
     "execution_count": 1,
     "metadata": {},
     "output_type": "execute_result"
    }
   ],
   "source": [
    "1+2"
   ]
  },
  {
   "cell_type": "code",
   "execution_count": 2,
   "id": "d6cf306f",
   "metadata": {},
   "outputs": [
    {
     "data": {
      "text/plain": [
       "\"1 week ago - Barack Hussein Obama II was born on August 4, 1961 in Kapiʻolani Medical Center for Women and Children (called Kapiʻolani Maternity & Gynecological Hospital in 1961) in Honolulu, Hawaii. He is the first President to have been born in Hawaii. His father was a black exchange student from Kenya ... 3 days ago - Barack Hussein Obama II (born August 4, 1961) is an American politician who was the 44th president of the United States from 2009 to 2017. A member of the Democratic Party, he was the first African American president. Obama previously served as a U.S. senator representing Illinois from 2005 ... 1 week ago - The family of Barack Obama , the 44th president of the United States, is a prominent American family active in law, education, activism and politics. Obama's immediate family circle was the first family of the United States from 2009 to 2017 during Obama's presidency, and are the first such ... 2 days ago - Michelle LaVaughn Robinson Obama (née Robinson; born January 17, 1964) is an American attorney and author who served as the first lady of the United States from 2009 to 2017, being married to Barack Obama, the 44th president of the United States. Born in Chicago, Illinois, and raised on the ... March 21, 2025 - It most commonly refers to Barack Obama (born 1961), the 44th president of the United States.\""
      ]
     },
     "execution_count": 2,
     "metadata": {},
     "output_type": "execute_result"
    }
   ],
   "source": [
    "from langchain_community.tools import DuckDuckGoSearchRun\n",
    "\n",
    "search = DuckDuckGoSearchRun()\n",
    "\n",
    "search.invoke(\"Obama's first name?\")"
   ]
  },
  {
   "cell_type": "code",
   "execution_count": 3,
   "id": "10867925",
   "metadata": {},
   "outputs": [
    {
     "data": {
      "text/plain": [
       "'snippet: 21 Jan 2025 — Barack Hussein Obama II (born August 4, 1961) is an American politician who was the 44th president of the United States from 2009 to 2017., title: Barack Obama, link: https://en.wikipedia.org/wiki/Barack_Obama, snippet: 3 days ago — Former US President Barack Obama has warned of a \"political crisis of the sort that we haven\\'t seen before \" in the wake of the killing of Charlie Kirk., title: Obama says US faces \\'political crisis\\' after killing of Charlie ..., link: https://www.bbc.com/news/articles/c9dxge2ep4xo, snippet: Barack Obama . @BarackObama. We can\\'t allow ourselves to become numb to mass shootings. What happened today in Minneapolis is heartbreaking, and Michelle and I ..., title: Barack Obama, link: https://x.com/BarackObama/status/1960766723944014276, snippet: 2 days ago — Obama addressed the issue, stressing America\\'s belief that “everybody counts and everybody\\'s equal under the law and has an inherent dignity and respect., title: \\'Don\\'t shout at me. I\\'m not…\\': Barack Obama\\'s sharp ..., link: https://www.hindustantimes.com/world-news/dont-shout-at-me-im-not-the-president-barack-obama-over-apparent-palestine-slogans-101758166772380.html'"
      ]
     },
     "execution_count": 3,
     "metadata": {},
     "output_type": "execute_result"
    }
   ],
   "source": [
    "from langchain_community.tools import DuckDuckGoSearchResults\n",
    "\n",
    "search = DuckDuckGoSearchResults()\n",
    "\n",
    "search.invoke(\"Obama\")"
   ]
  },
  {
   "cell_type": "code",
   "execution_count": null,
   "id": "c3b358f9",
   "metadata": {},
   "outputs": [],
   "source": []
  }
 ],
 "metadata": {
  "kernelspec": {
   "display_name": "LC",
   "language": "python",
   "name": "python3"
  },
  "language_info": {
   "codemirror_mode": {
    "name": "ipython",
    "version": 3
   },
   "file_extension": ".py",
   "mimetype": "text/x-python",
   "name": "python",
   "nbconvert_exporter": "python",
   "pygments_lexer": "ipython3",
   "version": "3.12.2"
  }
 },
 "nbformat": 4,
 "nbformat_minor": 5
}
