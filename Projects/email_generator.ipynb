{
 "cells": [
  {
   "cell_type": "code",
   "execution_count": 84,
   "id": "a9110001",
   "metadata": {},
   "outputs": [],
   "source": [
    "from langchain_groq import ChatGroq\n",
    "from langchain.prompts import PromptTemplate\n",
    "from dotenv import load_dotenv\n",
    "from langchain_community.document_loaders import WebBaseLoader\n",
    "from langchain_core.output_parsers import JsonOutputParser\n"
   ]
  },
  {
   "cell_type": "code",
   "execution_count": 44,
   "id": "1c14bc09",
   "metadata": {},
   "outputs": [
    {
     "data": {
      "text/plain": [
       "True"
      ]
     },
     "execution_count": 44,
     "metadata": {},
     "output_type": "execute_result"
    }
   ],
   "source": [
    "load_dotenv()"
   ]
  },
  {
   "cell_type": "code",
   "execution_count": 45,
   "id": "234be13a",
   "metadata": {},
   "outputs": [],
   "source": [
    "llm = ChatGroq(\n",
    "    model=\"llama3-8b-8192\",\n",
    "    temperature=0.0,\n",
    "    max_retries=2\n",
    ")"
   ]
  },
  {
   "cell_type": "code",
   "execution_count": 5,
   "id": "41942eca",
   "metadata": {},
   "outputs": [
    {
     "name": "stdout",
     "output_type": "stream",
     "text": [
      "Jainism is an ancient Indian religion that is believed to have been founded by Mahavira, who was a contemporary of the Buddha. Mahavira was born in 599 BCE in Valabhi, which is now in the state of Gujarat, India. He was a member of the royal family and was known as Vardhamana before he renounced his royal life and became a monk.\n",
      "\n",
      "Mahavira was a follower of the Tirthankara, a spiritual teacher who is believed to have achieved enlightenment and shown the path to others. Mahavira's teachings were based on the principles of non-violence, non-possessiveness, and self-control, and he emphasized the importance of spiritual practices such as meditation and yoga.\n",
      "\n",
      "Mahavira spent many years as a monk, traveling throughout India and teaching his followers about the path to enlightenment. He is believed to have lived for 72 years and died in 527 BCE. After his death, his followers continued to spread his teachings and establish Jain monasteries and temples throughout India.\n",
      "\n",
      "Over time, Jainism developed into a distinct religion with its own scriptures, rituals, and practices. Today, Jainism is practiced by millions of people around the world, and its teachings continue to influence Indian culture and spirituality.\n"
     ]
    }
   ],
   "source": [
    "response =llm.invoke(\"Who founded jainism?\")\n",
    "print(response.content)"
   ]
  },
  {
   "cell_type": "code",
   "execution_count": 46,
   "id": "1a451737",
   "metadata": {},
   "outputs": [
    {
     "name": "stdout",
     "output_type": "stream",
     "text": [
      "Software Engineer III, Infrastructure, Core — Google CareersCareersSkip navigation linkshomehomeHomeHomework_outlinework_outlineJobsJobsnoogler_hatnoogler_hatStudentsStudentsgooglegoogleHow we workHow we workhandymanhandymanHow we hireHow we hireperson_outlineperson_outlineYour careerYour careerhelp_outlineHelp linkfeedbackSend feedbackmore_vert HelpSend FeedbackSign inCareershomeHomework_outlineJobsexpand_morenoogler_hatStudentsexpand_moregoogleHow we workexpand_morehandymanHow we hireexpand_moreperson_outlineYour careerexpand_morejob detailsarrow_backBack to jobs searchJobs search results3,395  jobs matchedSoftware Engineer III, Infrastructure, CoreBengaluru, Karnataka, IndiaProgram Manager, Strategic Business OperationsSunnyvale, CA, USASenior Software Engineer, AI/ML GenAI, Google Cloud AISunnyvale, CA, USA; Kirkland, WA, USASenior Software Engineer, Core Data, Data IndexingBengaluru, Karnataka, IndiaSoftware Engineer III, Google CloudBengaluru, Karnataka, India; Hyderabad, Telangana, India; +2 more; +1 moreSenior Programmatic Account Manager, TelecomNew York, NY, USA; Chicago, IL, USASoftware Engineer, PhotosSydney NSW, AustraliaLead Staff Software Engineer, Generative AI, ChromeMountain View, CA, USA; Kirkland, WA, USA; +3 more; +2 moreProgram Manager, Data Center Operations, Environmental, Health and Safety (English, Malay)Kuala Lumpur, Federal Territory of Kuala Lumpur, MalaysiaSoftware Engineer, gReach Program for People with Disabilities (장애인 채용)Seoul, South KoreaSenior Interaction DesignerMountain View, CA, USA; Irvine, CA, USAProgram Manager, Google Enterprise Networking, University GraduateAustin, TX, USASenior Internal Controls ManagerToronto, ON, CanadaLogistics Operations Manager, Server OperationsCouncil Bluffs, IA, USASenior Software Engineer, Chrome IdentityWarsaw, PolandField Sales Representative, Enterprise Growth (Telco), Google CloudSantiago, ChileCPU Performance Modeling Engineer, Google CloudTel Aviv, Israel; Haifa, IsraelProgram Manager, Google PhotosSydney NSW, AustraliaSoftware Engineer III, Full Stack Corporate EngineeringHyderabad, Telangana, IndiaStaff Software Engineer, Chrome AccessibilityMexico City, CDMX, Mexico1‑20 of 3395navigate_nextFollow Life at Google on More about usAbout usopen_in_newContact usopen_in_newPressopen_in_newRelated InformationInvestor relationsopen_in_newBlogopen_in_newEqual OpportunityGoogle is proud to be an equal opportunity and affirmative action employer. We are committed to building a workforce that is representative of the users we serve, creating a culture of belonging, and providing an equal employment opportunity regardless of race, creed, color, religion, gender, sexual orientation, gender identity/expression, national origin, disability, age, genetic information, veteran status, marital status, pregnancy or related condition (including breastfeeding), expecting or parents-to-be, criminal histories consistent with legal requirements, or any other basis protected by law. See also  Google's EEO Policy, Know your rights: workplace discrimination is illegal, Belonging at Google, and How we hire.More about usexpand_moreRelated informationexpand_moreEqual opportunityexpand_morePrivacyopen_in_newApplicant & Candidate Privacyopen_in_newTermsopen_in_newhelpHelpopen_in_newarrow_backBack to jobs searchSoftware Engineer III, Infrastructure, Coreshare linkCopy linkemailEmail a friendcorporate_fareGoogleplaceBengaluru, Karnataka, Indiabar_chartMidMidExperience driving progress, solving problems, and mentoring more junior team members; deeper expertise and applied knowledge within relevant area.Applyshare linkCopy linkemailEmail a friendMinimum qualifications:\n",
      "Bachelor’s degree or equivalent practical experience.\n",
      "2 years of experience with software development in one or more programming languages, or 1 year of experience with an advanced degree.\n",
      "\n",
      "2 years of experience with data structures or algorithms in either an academic or industry setting.\n",
      "Preferred qualifications:\n",
      "Master's degree or PhD in Computer Science or related technical fields.\n",
      "2 years of experience building and developing infrastructure, distributed systems or networks, or experience with compute technologies, storage, or hardware architecture. \n",
      "Experience developing accessible technologies.\n",
      "About the jobGoogle's software engineers develop the next-generation technologies that change how billions of users connect, explore, and interact with information and one another. Our products need to handle information at massive scale, and extend well beyond web search. We're looking for engineers who bring fresh ideas from all areas, including information retrieval, distributed computing, large-scale system design, networking and data storage, security, artificial intelligence, natural language processing, UI design and mobile; the list goes on and is growing every day. As a software engineer, you will work on a specific project critical to Google’s needs with opportunities to switch teams and projects as you and our fast-paced business grow and evolve. We need our engineers to be versatile, display leadership qualities and be enthusiastic to take on new problems across the full-stack as we continue to push technology forward.\n",
      "With your technical expertise you will manage project priorities, deadlines, and deliverables. You will design, develop, test, deploy, maintain, and enhance software solutions.\n",
      "The Core team builds the technical foundation behind Google’s flagship products. We are owners and advocates for the underlying design elements, developer platforms, product components, and infrastructure at Google. These are the essential building blocks for excellent, safe, and coherent experiences for our users and drive the pace of innovation for every developer. We look across Google’s products to build central solutions, break down technical barriers and strengthen existing systems. As the Core team, we have a mandate and a unique opportunity to impact important technical decisions across the company.Responsibilities\n",
      "Write product or system development code.\n",
      "Participate in, or lead design reviews with peers and stakeholders to decide amongst available technologies.\n",
      "Review code developed by other developers and provide feedback to ensure best practices (e.g., style guidelines, checking code in, accuracy, testability, and efficiency).\n",
      "Contribute to existing documentation or educational content and adapt content based on product/program updates and user feedback.\n",
      "Triage product or system issues and debug/track/resolve by analyzing the sources of issues and the impact on hardware, network, or service operations and quality.\n",
      "Information collected and processed as part of your Google Careers profile, and any job applications you choose to submit is subject to Google's Applicant and Candidate Privacy Policy.Google is proud to be an equal opportunity and affirmative action employer. We are committed to building a workforce that is representative of the users we serve, creating a culture of belonging, and providing an equal employment opportunity regardless of race, creed, color, religion, gender, sexual orientation, gender identity/expression, national origin, disability, age, genetic information, veteran status, marital status, pregnancy or related condition (including breastfeeding), expecting or parents-to-be, criminal histories consistent with legal requirements, or any other basis protected by law. See also  Google's EEO Policy, Know your rights: workplace discrimination is illegal, Belonging at Google, and How we hire.If you have a need that requires accommodation, please let us know by completing our Accommodations for Applicants form.Google is a global company and, in order to facilitate efficient collaboration and communication globally, English proficiency is a requirement for all roles unless stated otherwise in the job posting.To all recruitment agencies: Google does not accept agency resumes. Please do not forward resumes to our jobs alias, Google employees, or any other organization location. Google is not responsible for any fees related to unsolicited resumes.Follow Life at Google on More about usAbout usopen_in_newContact usopen_in_newPressopen_in_newRelated InformationInvestor relationsopen_in_newBlogopen_in_newEqual OpportunityGoogle is proud to be an equal opportunity and affirmative action employer. We are committed to building a workforce that is representative of the users we serve, creating a culture of belonging, and providing an equal employment opportunity regardless of race, creed, color, religion, gender, sexual orientation, gender identity/expression, national origin, disability, age, genetic information, veteran status, marital status, pregnancy or related condition (including breastfeeding), expecting or parents-to-be, criminal histories consistent with legal requirements, or any other basis protected by law. See also  Google's EEO Policy, Know your rights: workplace discrimination is illegal, Belonging at Google, and How we hire.More about usexpand_moreRelated informationexpand_moreEqual opportunityexpand_morePrivacyopen_in_newApplicant & Candidate Privacyopen_in_newTermsopen_in_newhelpHelpopen_in_newFollow Life at Google on More about usAbout usopen_in_newContact usopen_in_newPressopen_in_newRelated InformationInvestor relationsopen_in_newBlogopen_in_newEqual OpportunityGoogle is proud to be an equal opportunity and affirmative action employer. We are committed to building a workforce that is representative of the users we serve, creating a culture of belonging, and providing an equal employment opportunity regardless of race, creed, color, religion, gender, sexual orientation, gender identity/expression, national origin, disability, age, genetic information, veteran status, marital status, pregnancy or related condition (including breastfeeding), expecting or parents-to-be, criminal histories consistent with legal requirements, or any other basis protected by law. See also  Google's EEO Policy, Know your rights: workplace discrimination is illegal, Belonging at Google, and How we hire.More about usexpand_moreRelated informationexpand_moreEqual opportunityexpand_morePrivacyopen_in_newApplicant & Candidate Privacyopen_in_newTermsopen_in_newhelpHelpopen_in_newGoogle appsMain menu\n"
     ]
    }
   ],
   "source": [
    "loader = WebBaseLoader(\"https://www.google.com/about/careers/applications/jobs/results/110690555461018310-software-engineer-iii-infrastructure-core\")\n",
    "\n",
    "data = loader.load()\n",
    "\n",
    "print(data[0].page_content)"
   ]
  },
  {
   "cell_type": "code",
   "execution_count": 48,
   "id": "9a9adf15",
   "metadata": {},
   "outputs": [],
   "source": [
    "prompt1 = PromptTemplate(\n",
    "    template=\"\"\"\n",
    "        ### SCRAPED TEXT FROM WEBSITE:\n",
    "        {page_data}\n",
    "        ### INSTRUCTION:\n",
    "        The scraped text is from the career's page of a website.\n",
    "        Your job is to extract the job postings and return them in JSON format containing the \n",
    "        following keys: `role`, `experience`, `skills` and `description`.\n",
    "        Only return the valid JSON.\n",
    "        ### VALID JSON (NO PREAMBLE): \n",
    "    \"\"\"\n",
    ")"
   ]
  },
  {
   "cell_type": "code",
   "execution_count": 49,
   "id": "6b116c70",
   "metadata": {},
   "outputs": [],
   "source": [
    "chain = prompt1 | llm "
   ]
  },
  {
   "cell_type": "code",
   "execution_count": 50,
   "id": "f5574c38",
   "metadata": {},
   "outputs": [],
   "source": [
    "result = chain.invoke({'page_data':data[0].page_content})"
   ]
  },
  {
   "cell_type": "code",
   "execution_count": 51,
   "id": "90c706e8",
   "metadata": {},
   "outputs": [
    {
     "name": "stdout",
     "output_type": "stream",
     "text": [
      "Here is the extracted job posting in JSON format:\n",
      "\n",
      "```\n",
      "[\n",
      "  {\n",
      "    \"role\": \"Software Engineer III, Infrastructure, Core\",\n",
      "    \"experience\": \"2 years of experience with software development in one or more programming languages, or 1 year of experience with an advanced degree.\",\n",
      "    \"skills\": \"data structures or algorithms in either an academic or industry setting\",\n",
      "    \"description\": \"Write product or system development code. Participate in, or lead design reviews with peers and stakeholders to decide amongst available technologies. Review code developed by other developers and provide feedback to ensure best practices (e.g., style guidelines, checking code in, accuracy, testability, and efficiency). Contribute to existing documentation or educational content and adapt content based on product/program updates and user feedback. Triage product or system issues and debug/track/resolve by analyzing the sources of issues and the impact on hardware, network, or service operations and quality.\"\n",
      "  }\n",
      "]\n",
      "```\n",
      "\n",
      "Note that there is only one job posting in the provided text, so the output is a single JSON object. If there were multiple job postings, the output would be a JSON array with multiple objects.\n"
     ]
    }
   ],
   "source": [
    "print(result.content)"
   ]
  },
  {
   "cell_type": "code",
   "execution_count": 54,
   "id": "f518eb5e",
   "metadata": {},
   "outputs": [
    {
     "data": {
      "text/plain": [
       "str"
      ]
     },
     "execution_count": 54,
     "metadata": {},
     "output_type": "execute_result"
    }
   ],
   "source": [
    "type(result.content)"
   ]
  },
  {
   "cell_type": "code",
   "execution_count": 56,
   "id": "12654cdd",
   "metadata": {},
   "outputs": [
    {
     "data": {
      "text/plain": [
       "[{'role': 'Software Engineer III, Infrastructure, Core',\n",
       "  'experience': '2 years of experience with software development in one or more programming languages, or 1 year of experience with an advanced degree.',\n",
       "  'skills': 'data structures or algorithms in either an academic or industry setting',\n",
       "  'description': 'Write product or system development code. Participate in, or lead design reviews with peers and stakeholders to decide amongst available technologies. Review code developed by other developers and provide feedback to ensure best practices (e.g., style guidelines, checking code in, accuracy, testability, and efficiency). Contribute to existing documentation or educational content and adapt content based on product/program updates and user feedback. Triage product or system issues and debug/track/resolve by analyzing the sources of issues and the impact on hardware, network, or service operations and quality.'}]"
      ]
     },
     "execution_count": 56,
     "metadata": {},
     "output_type": "execute_result"
    }
   ],
   "source": [
    "from langchain_core.output_parsers import JsonOutputParser\n",
    "\n",
    "json_parser = JsonOutputParser()\n",
    "json_res = json_parser.parse(result.content)\n",
    "json_res"
   ]
  },
  {
   "cell_type": "code",
   "execution_count": 53,
   "id": "a9131bf8",
   "metadata": {},
   "outputs": [
    {
     "data": {
      "text/plain": [
       "list"
      ]
     },
     "execution_count": 53,
     "metadata": {},
     "output_type": "execute_result"
    }
   ],
   "source": [
    "type(json_res)"
   ]
  },
  {
   "cell_type": "code",
   "execution_count": 85,
   "id": "09c12633",
   "metadata": {},
   "outputs": [
    {
     "name": "stdout",
     "output_type": "stream",
     "text": [
      "Subject: Enhance Your Infrastructure with AtliQ's Expertise\n",
      "\n",
      "Dear [Recipient],\n",
      "\n",
      "I came across your job posting for a Software Engineer III, Infrastructure, Core, and I'm excited to introduce you to AtliQ, a leading AI & Software Consulting company dedicated to streamlining business processes through innovative solutions.\n",
      "\n",
      "Our team of experts has extensive experience in developing scalable and efficient software solutions, and we believe we can help you fulfill your requirements. AtliQ's capabilities align perfectly with your job description, particularly in writing product or system development code, participating in design reviews, and reviewing code for best practices.\n",
      "\n",
      "I'd like to highlight a few relevant projects from our portfolio that demonstrate our expertise in infrastructure development:\n",
      "\n",
      "* [Link to React Portfolio]: Our team has successfully developed scalable and maintainable React applications for various clients, ensuring seamless integration with their existing infrastructure.\n",
      "* [Link to Angular Portfolio]: We've helped numerous clients build robust and efficient Angular applications, leveraging our expertise in data structures and algorithms.\n",
      "* [Link to Vue Portfolio]: Our Vue.js expertise has enabled us to deliver high-performance and scalable applications that meet the needs of our clients.\n",
      "\n",
      "AtliQ's expertise in software development, combined with our understanding of your requirements, makes us an ideal partner for your project. We'd be delighted to discuss how we can contribute to your infrastructure development and help you achieve your goals.\n",
      "\n",
      "Please feel free to reach out to me directly to schedule a call and explore how AtliQ can support your project.\n",
      "\n",
      "Best regards,\n",
      "\n",
      "Myra\n",
      "Business Development Executive\n",
      "Jain & Co.\n"
     ]
    }
   ],
   "source": [
    "prompt_email = PromptTemplate.from_template(\n",
    "       \"\"\"\n",
    "    ### JOB DESCRIPTION:\n",
    "    {job_description}\n",
    "    \n",
    "    ### INSTRUCTION:\n",
    "    You are Myra, a business development executive at Jain & Co.Jain & Cois an AI & Software Consulting company dedicated to facilitating\n",
    "    the seamless integration of business processes through automated tools. \n",
    "    Over our experience, we have empowered numerous enterprises with tailored solutions, fostering scalability, \n",
    "    process optimization, cost reduction, and heightened overall efficiency. \n",
    "    Your job is to write a cold email to the client regarding the job mentioned above describing the capability of AtliQ \n",
    "    in fulfilling their needs.\n",
    "    Also add the most relevant ones from the following links to showcase  portfolio: {link_list}\n",
    "    Remember you are Myra, BDE at Jain & Co. \n",
    "    Do not provide a preamble.\n",
    "    ### EMAIL (NO PREAMBLE):\n",
    "    \n",
    "    \"\"\"\n",
    "\n",
    "        )\n",
    "\n",
    "links = [\"\"\"https://example.com/react-portfolio,\n",
    "https://example.com/angular-portfolio,\n",
    "https://example.com/vue-portfolio,\n",
    "https://example.com/python-portfolio,\n",
    "https://example.com/java-portfolio,\n",
    "https://example.com/flutter-portfolio,\n",
    "https://example.com/wordpress-portfolio,\n",
    "https://example.com/magento-portfolio,\n",
    "https://example.com/react-native-portfolio,\n",
    "https://example.com/ios-portfolio,\n",
    "https://example.com/android-portfolio,\n",
    "https://example.com/kotlin-android-portfolio,\n",
    "\"\"\"]\n",
    "\n",
    "\n",
    "chain_email = prompt_email | llm\n",
    "res = chain_email.invoke({\"job_description\": str(json_res), \"link_list\": links})\n",
    "print(res.content)"
   ]
  },
  {
   "cell_type": "code",
   "execution_count": null,
   "id": "78e75435",
   "metadata": {},
   "outputs": [],
   "source": []
  }
 ],
 "metadata": {
  "kernelspec": {
   "display_name": "LC",
   "language": "python",
   "name": "python3"
  },
  "language_info": {
   "codemirror_mode": {
    "name": "ipython",
    "version": 3
   },
   "file_extension": ".py",
   "mimetype": "text/x-python",
   "name": "python",
   "nbconvert_exporter": "python",
   "pygments_lexer": "ipython3",
   "version": "3.12.4"
  }
 },
 "nbformat": 4,
 "nbformat_minor": 5
}
